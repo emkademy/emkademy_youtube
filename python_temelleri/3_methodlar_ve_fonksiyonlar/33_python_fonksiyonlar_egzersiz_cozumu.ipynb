{
 "cells": [
  {
   "cell_type": "markdown",
   "metadata": {},
   "source": [
    "# Fonksiyon egzersizleri"
   ]
  },
  {
   "cell_type": "markdown",
   "metadata": {},
   "source": [
    "### Yaricapi ve yuksekligi verilen bir Koni'nin hacmini hesaplayan bir fonksiyon yazin.\n",
    "##### https://acikders.ankara.edu.tr/pluginfile.php/75255/mod_resource/content/1/Geometrik%20Cisimlerin%20Alan%20ve%20Hacimleri.pdf"
   ]
  },
  {
   "cell_type": "code",
   "execution_count": 3,
   "metadata": {},
   "outputs": [
    {
     "name": "stdout",
     "output_type": "stream",
     "text": [
      "3.141592653589793\n"
     ]
    }
   ],
   "source": [
    "# from math import pi\n",
    "# print(pi)"
   ]
  },
  {
   "cell_type": "code",
   "execution_count": 8,
   "metadata": {},
   "outputs": [],
   "source": [
    "# V = 1/3*pi*r^2*h\n",
    "def hacim(r, h):\n",
    "    pi = 3.14\n",
    "    return (1/3)*pi*(r^2)*h"
   ]
  },
  {
   "cell_type": "code",
   "execution_count": 9,
   "metadata": {},
   "outputs": [
    {
     "name": "stdout",
     "output_type": "stream",
     "text": [
      "167.46666666666667\n"
     ]
    }
   ],
   "source": [
    "r = 10\n",
    "h = 20\n",
    "\n",
    "koninin_hacmi = hacim(r, h)\n",
    "print(koninin_hacmi)"
   ]
  },
  {
   "cell_type": "markdown",
   "metadata": {},
   "source": [
    "### Verilen bir sayinin belli bir aralikta olup olmadigini kontrol eden bir fonksiyon yazin. Ust ve alt sinirlar da bu araligin icinde olacak sekilde. (Mesela: 3 <= x <= 5). Fonksiyon sonucu ekrana yazdiracak."
   ]
  },
  {
   "cell_type": "code",
   "execution_count": 12,
   "metadata": {},
   "outputs": [],
   "source": [
    "def aralikta_mi(numara, alt_sinir, ust_sinir):\n",
    "    if numara >= alt_sinir and numara <= ust_sinir:\n",
    "        print(f\"{alt_sinir}<= {numara} <= {ust_sinir}\")\n",
    "    else:\n",
    "        print(\"Verilen numara bu aralikta degil\")"
   ]
  },
  {
   "cell_type": "code",
   "execution_count": 14,
   "metadata": {},
   "outputs": [
    {
     "name": "stdout",
     "output_type": "stream",
     "text": [
      "Verilen numara bu aralikta degil\n"
     ]
    }
   ],
   "source": [
    "aralikta_mi(8, 3, 5)"
   ]
  },
  {
   "cell_type": "markdown",
   "metadata": {},
   "source": [
    "### *aralikta_mi* fonksiyonunun aynisini alt ve ust sinir araligin icine alinmadan yapin (Mesela: 3 < x < 5) Bu sefer fonksiyon, eger girilen numara bu araligin icinde ise True, degilse False dondurmeli."
   ]
  },
  {
   "cell_type": "code",
   "execution_count": 15,
   "metadata": {},
   "outputs": [],
   "source": [
    "def aralikta_mi_bool(x, alt_sinir, ust_sinir):\n",
    "    return x > alt_sinir and x < ust_sinir"
   ]
  },
  {
   "cell_type": "code",
   "execution_count": 19,
   "metadata": {},
   "outputs": [
    {
     "data": {
      "text/plain": [
       "False"
      ]
     },
     "execution_count": 19,
     "metadata": {},
     "output_type": "execute_result"
    }
   ],
   "source": [
    "aralikta_mi_bool(5, 3, 5)"
   ]
  },
  {
   "cell_type": "markdown",
   "metadata": {},
   "source": [
    "### Verilen bir string'de hangi karakterden kac tane oldugunu hesaplayan bir fonksiyon yazin. \n",
    "\n",
    " **Ornek cumle:** *\"Bu cumlede hangi harften kac tane var?\"*\n",
    " \n",
    "  **Fonksiyondan beklenen cikis:**\n",
    "  \n",
    "      a: 5\n",
    "      B: 1\n",
    "      c: 2\n",
    "      d: 1\n",
    "      e: 4\n",
    "      f: 1\n",
    "      g: 1\n",
    "      h: 2\n",
    "      i: 1\n",
    "      k: 1\n",
    "      l: 1\n",
    "      m: 1\n",
    "      n: 2\n",
    "      r: 1\n",
    "      t: 2\n",
    "      u: 2\n",
    "      ?: 1"
   ]
  },
  {
   "cell_type": "code",
   "execution_count": 26,
   "metadata": {},
   "outputs": [],
   "source": [
    "def karakter_sayici(string):\n",
    "    sayac = {}\n",
    "    for karakter in string:\n",
    "        if sayac.get(karakter, None) is None:\n",
    "            sayac[karakter] = 1\n",
    "        else:\n",
    "            sayac[karakter] += 1\n",
    "    return sayac"
   ]
  },
  {
   "cell_type": "code",
   "execution_count": 27,
   "metadata": {
    "scrolled": true
   },
   "outputs": [
    {
     "name": "stdout",
     "output_type": "stream",
     "text": [
      "{'B': 1, 'u': 2, ' ': 6, 'c': 2, 'm': 1, 'l': 1, 'e': 4, 'd': 1, 'h': 2, 'a': 5, 'n': 3, 'g': 1, 'i': 1, 'r': 2, 'f': 1, 't': 2, 'k': 1, 'v': 1, '?': 1}\n"
     ]
    }
   ],
   "source": [
    "benim_stringim = \"Bu cumlede hangi harften kac tane var?\"\n",
    "sayac = karakter_sayici(benim_stringim)\n",
    "print(sayac)"
   ]
  },
  {
   "cell_type": "markdown",
   "metadata": {},
   "source": [
    "### Verilen listedeki tekrarlanan elemanlari silip, sadece benzersiz elemanlardan olusan bir liste donduren bir fonksiyon yazin\n",
    "\n",
    "  **Ornek liste:** [1, 1, 1, 1, 2, 3, 3, 3, 4, 4, 4, \"a\", \"a\", \"b\", \"b\", \"b\"]\n",
    "  \n",
    "  **Output:** [1, 2, 3, 4, \"a\", \"b\"]"
   ]
  },
  {
   "cell_type": "code",
   "execution_count": 30,
   "metadata": {},
   "outputs": [],
   "source": [
    "def essiz_liste(liste):\n",
    "    return list(set(liste))"
   ]
  },
  {
   "cell_type": "code",
   "execution_count": 31,
   "metadata": {
    "scrolled": true
   },
   "outputs": [
    {
     "name": "stdout",
     "output_type": "stream",
     "text": [
      "[1, 2, 3, 4, 'b', 'a']\n"
     ]
    }
   ],
   "source": [
    "benim_listem = [1, 1, 1, 1, 2, 3, 3, 3, 4, 4, 4, \"a\", \"a\", \"b\", \"b\", \"b\"]\n",
    "benim_kumem = essiz_liste(benim_listem)\n",
    "print(benim_kumem)"
   ]
  },
  {
   "cell_type": "markdown",
   "metadata": {},
   "source": [
    "### Verilen listedeki butun numaralari birbiriyle carpip sonucu donduren bir fonksiyon yazin\n",
    "\n",
    "\n",
    "   **Ornek liste:** [1, 2, 3, 4]\n",
    "   \n",
    "   **Output:** 24"
   ]
  },
  {
   "cell_type": "code",
   "execution_count": 35,
   "metadata": {},
   "outputs": [],
   "source": [
    "from functools import reduce\n",
    "\n",
    "def hepsini_carp(liste):\n",
    "    carpimin_sonucu = 1\n",
    "    for x in liste:\n",
    "        carpimin_sonucu *= x\n",
    "    return carpimin_sonucu"
   ]
  },
  {
   "cell_type": "code",
   "execution_count": 40,
   "metadata": {},
   "outputs": [],
   "source": [
    "def hepsini_carp_reduce(liste):\n",
    "    return reduce(lambda x,y: x*y, liste)"
   ]
  },
  {
   "cell_type": "code",
   "execution_count": 41,
   "metadata": {},
   "outputs": [
    {
     "name": "stdout",
     "output_type": "stream",
     "text": [
      "24\n"
     ]
    }
   ],
   "source": [
    "benim_listem =  [1, 2, 3, 4]\n",
    "carpimin_sonucu = hepsini_carp_reduce(benim_listem)\n",
    "print(carpimin_sonucu)"
   ]
  },
  {
   "cell_type": "markdown",
   "metadata": {},
   "source": [
    "### Verilen string'in palindrom olup olmadigini bulan bir fonksiyon yazin.\n",
    "\n",
    "**Palindrom:** Normal ve tersten okundugunda ayni olan kelime. Ornek: yapay"
   ]
  },
  {
   "cell_type": "code",
   "execution_count": 42,
   "metadata": {},
   "outputs": [],
   "source": [
    "def palindrom_mu(string):\n",
    "    dongu_sayisi = int(len(string) / 2)\n",
    "    palindrom = True\n",
    "    for i in range(dongu_sayisi):\n",
    "        bastan_karsilastirilacak_harf = string[i]\n",
    "        sondan_karsilastirilacak_harf = string[len(string) - i - 1]\n",
    "        palindrom = palindrom and bastan_karsilastirilacak_harf == sondan_karsilastirilacak_harf\n",
    "    return palindrom"
   ]
  },
  {
   "cell_type": "code",
   "execution_count": 45,
   "metadata": {},
   "outputs": [
    {
     "name": "stdout",
     "output_type": "stream",
     "text": [
      "True\n"
     ]
    }
   ],
   "source": [
    "benim_stringim = \"ulusulu\"\n",
    "print(palindrom_mu(benim_stringim))"
   ]
  },
  {
   "cell_type": "markdown",
   "metadata": {},
   "source": [
    "### Verilen bir string'in pangram olup olmadigini bulan bir fonksiyon yazin\n",
    "\n",
    "**Pangram:** alfabedeki butun harflari iceren cumle.\n",
    "\n",
    "**Ornek:** Ciliz ve duygulu japon baligi fethi, sıcarken olmus. (:P)\n",
    "\n",
    "Bu ornek icin **string** module'unu kullanabilirsiniz (kullanmadan da yapabilirsiniz)."
   ]
  },
  {
   "cell_type": "code",
   "execution_count": 58,
   "metadata": {},
   "outputs": [],
   "source": [
    "# import string\n",
    "\n",
    "def pangram_mi(cumle):\n",
    "    alfabe = \"abcdefghijklmnoprstuvyz\"\n",
    "    sayac = {}\n",
    "    for karakter in alfabe:\n",
    "        sayac[karakter] = 0\n",
    "    for karakter in cumle:\n",
    "        if karakter != \" \":\n",
    "            sayac[karakter] += 1\n",
    "    return 0 not in sayac.values()"
   ]
  },
  {
   "cell_type": "code",
   "execution_count": 60,
   "metadata": {},
   "outputs": [
    {
     "name": "stdout",
     "output_type": "stream",
     "text": [
      "True\n"
     ]
    }
   ],
   "source": [
    "benim_cumlem = \"fusun kactigina gore yemyesil japon cihazi bedava\"\n",
    "print(pangram_mi(benim_cumlem))"
   ]
  },
  {
   "cell_type": "code",
   "execution_count": null,
   "metadata": {},
   "outputs": [],
   "source": []
  }
 ],
 "metadata": {
  "kernelspec": {
   "display_name": "Python 3",
   "language": "python",
   "name": "python3"
  },
  "language_info": {
   "codemirror_mode": {
    "name": "ipython",
    "version": 3
   },
   "file_extension": ".py",
   "mimetype": "text/x-python",
   "name": "python",
   "nbconvert_exporter": "python",
   "pygments_lexer": "ipython3",
   "version": "3.7.4"
  }
 },
 "nbformat": 4,
 "nbformat_minor": 2
}
