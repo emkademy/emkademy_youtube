{
 "cells": [
  {
   "cell_type": "markdown",
   "metadata": {},
   "source": [
    "# Fonksiyon egzersizleri"
   ]
  },
  {
   "cell_type": "markdown",
   "metadata": {},
   "source": [
    "### Yaricapi ve yuksekligi verilen bir Koni'nin hacmini hesaplayan bir fonksiyon yazin.\n",
    "##### https://acikders.ankara.edu.tr/pluginfile.php/75255/mod_resource/content/1/Geometrik%20Cisimlerin%20Alan%20ve%20Hacimleri.pdf"
   ]
  },
  {
   "cell_type": "code",
   "execution_count": null,
   "metadata": {},
   "outputs": [],
   "source": [
    "def hacim(r, h):\n",
    "    pass"
   ]
  },
  {
   "cell_type": "markdown",
   "metadata": {},
   "source": [
    "### Verilen bir sayinin belli bir aralikta olup olmadigini kontrol eden bir fonksiyon yazin. Ust ve alt sinirlar da bu araligin icinde olacak sekilde. (Mesela: 3 <= x <= 5). Fonksiyon sonucu ekrana yazdiracak."
   ]
  },
  {
   "cell_type": "code",
   "execution_count": null,
   "metadata": {},
   "outputs": [],
   "source": [
    "def aralikta_mi(numara, alt_sinir, ust_sinir):\n",
    "    pass"
   ]
  },
  {
   "cell_type": "markdown",
   "metadata": {},
   "source": [
    "### *aralikta_mi* fonksiyonunun aynisini alt ve ust sinir araligin icine alinmadan yapin (Mesela: 3 < x < 5) Bu sefer fonksiyon, eger girilen numara bu araligin icinde ise True, degilse False dondurmeli."
   ]
  },
  {
   "cell_type": "code",
   "execution_count": null,
   "metadata": {},
   "outputs": [],
   "source": [
    "def aralikta_mi_bool(x, alt_sinir, ust_sinir):\n",
    "    pass"
   ]
  },
  {
   "cell_type": "markdown",
   "metadata": {},
   "source": [
    "### Verilen bir string'de hangi karakterden kac tane oldugunu hesaplayan bir fonksiyon yazin. \n",
    "\n",
    " **Ornek cumle:** *\"Bu cumlede hangi harften kac tane var?\"*\n",
    " \n",
    "  **Fonksiyondan beklenen cikis:**\n",
    "  \n",
    "      a: 5\n",
    "      B: 1\n",
    "      c: 2\n",
    "      d: 1\n",
    "      e: 4\n",
    "      f: 1\n",
    "      g: 1\n",
    "      h: 2\n",
    "      i: 1\n",
    "      k: 1\n",
    "      l: 1\n",
    "      m: 1\n",
    "      n: 2\n",
    "      r: 1\n",
    "      t: 2\n",
    "      u: 2\n",
    "      ?: 1"
   ]
  },
  {
   "cell_type": "code",
   "execution_count": null,
   "metadata": {},
   "outputs": [],
   "source": [
    "def karakter_sayici(string):\n",
    "    pass"
   ]
  },
  {
   "cell_type": "markdown",
   "metadata": {},
   "source": [
    "### Verilen listedeki tekrarlanan elemanlari silip, sadece benzersiz elemanlardan olusan bir liste donduren bir fonksiyon yazin\n",
    "\n",
    "  **Ornek liste:** [1, 1, 1, 1, 2, 3, 3, 3, 4, 4, 4, \"a\", \"a\", \"b\", \"b\", \"b\"]\n",
    "  \n",
    "  **Output:** [1, 2, 3, 4, \"a\", \"b\"]"
   ]
  },
  {
   "cell_type": "code",
   "execution_count": null,
   "metadata": {},
   "outputs": [],
   "source": [
    "def essiz_liste(liste):\n",
    "    pass"
   ]
  },
  {
   "cell_type": "markdown",
   "metadata": {},
   "source": [
    "### Verilen listedeki butun numaralari birbiriyle carpip sonucu donduren bir fonksiyon yazin\n",
    "\n",
    "\n",
    "   **Ornek liste:** [1, 2, 3, 4]\n",
    "   \n",
    "   **Output:** 24"
   ]
  },
  {
   "cell_type": "code",
   "execution_count": null,
   "metadata": {},
   "outputs": [],
   "source": [
    "def hepsini_carp_reduce(liste):\n",
    "    pass"
   ]
  },
  {
   "cell_type": "markdown",
   "metadata": {},
   "source": [
    "### Verilen string'in palindrom olup olmadigini bulan bir fonksiyon yazin.\n",
    "\n",
    "**Palindrom:** Normal ve tersten okundugunda ayni olan kelime. Ornek: yapay"
   ]
  },
  {
   "cell_type": "code",
   "execution_count": null,
   "metadata": {},
   "outputs": [],
   "source": [
    "def palindrom_mu(string):\n",
    "    pass"
   ]
  },
  {
   "cell_type": "markdown",
   "metadata": {},
   "source": [
    "### Verilen bir string'in pangram olup olmadigini bulan bir fonksiyon yazin\n",
    "\n",
    "**Pangram:** alfabedeki butun harflari iceren cumle.\n",
    "\n",
    "**Ornek:** Ciliz ve duygulu japon baligi fethi, sıcarken olmus. (:P)\n",
    "\n",
    "Bu ornek icin **string** module'unu kullanabilirsiniz (kullanmadan da yapabilirsiniz)."
   ]
  },
  {
   "cell_type": "code",
   "execution_count": null,
   "metadata": {},
   "outputs": [],
   "source": [
    "# import string\n",
    "# print(string.ascii_lowercase)\n",
    "\n",
    "def pangram_mi(cumle):\n",
    "    pass"
   ]
  },
  {
   "cell_type": "code",
   "execution_count": null,
   "metadata": {},
   "outputs": [],
   "source": []
  }
 ],
 "metadata": {
  "kernelspec": {
   "display_name": "Python 3",
   "language": "python",
   "name": "python3"
  },
  "language_info": {
   "codemirror_mode": {
    "name": "ipython",
    "version": 3
   },
   "file_extension": ".py",
   "mimetype": "text/x-python",
   "name": "python",
   "nbconvert_exporter": "python",
   "pygments_lexer": "ipython3",
   "version": "3.7.3"
  }
 },
 "nbformat": 4,
 "nbformat_minor": 2
}
