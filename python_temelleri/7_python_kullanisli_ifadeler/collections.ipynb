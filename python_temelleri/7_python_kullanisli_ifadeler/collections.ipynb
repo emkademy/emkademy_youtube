{
  "nbformat": 4,
  "nbformat_minor": 0,
  "metadata": {
    "colab": {
      "name": "collections.ipynb",
      "provenance": []
    },
    "kernelspec": {
      "name": "python3",
      "display_name": "Python 3"
    }
  },
  "cells": [
    {
      "cell_type": "markdown",
      "metadata": {
        "id": "xBzZM_7tS7Iq",
        "colab_type": "text"
      },
      "source": [
        "# Collections"
      ]
    },
    {
      "cell_type": "code",
      "metadata": {
        "id": "nRfPJyTTSOXg",
        "colab_type": "code",
        "colab": {}
      },
      "source": [
        "from collections import Counter"
      ],
      "execution_count": null,
      "outputs": []
    },
    {
      "cell_type": "code",
      "metadata": {
        "id": "UyzfoEBjTqZJ",
        "colab_type": "code",
        "colab": {
          "base_uri": "https://localhost:8080/",
          "height": 34
        },
        "outputId": "187a5638-e7bd-4668-81f1-88bc19b28218"
      },
      "source": [
        "benim_listem = [1, 1, 1, 2, 2, 3, 3, 3, 3, 3, 4, 4, 4, 4, 4, 4, 4, 4, 5, 5, 5, 5, 5, 5, 5]\n",
        "\n",
        "c = Counter(benim_listem)\n",
        "\n",
        "print(c.most_common(3))"
      ],
      "execution_count": null,
      "outputs": [
        {
          "output_type": "stream",
          "text": [
            "[(4, 8), (5, 7), (3, 5)]\n"
          ],
          "name": "stdout"
        }
      ]
    },
    {
      "cell_type": "code",
      "metadata": {
        "id": "uO_TKzoWTzCV",
        "colab_type": "code",
        "colab": {
          "base_uri": "https://localhost:8080/",
          "height": 173
        },
        "outputId": "ece62fb5-fbc9-4d7d-942f-150ecc8ecf41"
      },
      "source": [
        "benim_stringim = \"aaaabbbbccccccsakdfjsakldfjaslkdfj\"\n",
        "\n",
        "Counter(benim_stringim)"
      ],
      "execution_count": null,
      "outputs": [
        {
          "output_type": "execute_result",
          "data": {
            "text/plain": [
              "Counter({'a': 7,\n",
              "         'b': 4,\n",
              "         'c': 6,\n",
              "         'd': 3,\n",
              "         'f': 3,\n",
              "         'j': 3,\n",
              "         'k': 3,\n",
              "         'l': 2,\n",
              "         's': 3})"
            ]
          },
          "metadata": {
            "tags": []
          },
          "execution_count": 3
        }
      ]
    },
    {
      "cell_type": "code",
      "metadata": {
        "id": "c00qs_4QUFSA",
        "colab_type": "code",
        "colab": {
          "base_uri": "https://localhost:8080/",
          "height": 34
        },
        "outputId": "989942c0-28db-4630-92d9-eecacc729415"
      },
      "source": [
        "benim_cumlem = \"Merhaba Merhaba benim adim adim Kivanc Kivanc\"\n",
        "\n",
        "benim_cumlem_liste = benim_cumlem.split(\" \")\n",
        "\n",
        "c = Counter(benim_cumlem_liste)\n",
        "\n",
        "print(c.most_common(2))"
      ],
      "execution_count": null,
      "outputs": [
        {
          "output_type": "stream",
          "text": [
            "[('Merhaba', 2), ('adim', 2)]\n"
          ],
          "name": "stdout"
        }
      ]
    },
    {
      "cell_type": "code",
      "metadata": {
        "id": "QvOufHbfUWLA",
        "colab_type": "code",
        "colab": {}
      },
      "source": [
        "from collections import defaultdict"
      ],
      "execution_count": null,
      "outputs": []
    },
    {
      "cell_type": "code",
      "metadata": {
        "id": "-uDe1lAmtmKQ",
        "colab_type": "code",
        "colab": {}
      },
      "source": [
        "d = {}\n",
        "\n",
        "d[\"bir\"] = 1"
      ],
      "execution_count": null,
      "outputs": []
    },
    {
      "cell_type": "code",
      "metadata": {
        "id": "xL8mPbOytwhl",
        "colab_type": "code",
        "colab": {
          "base_uri": "https://localhost:8080/",
          "height": 34
        },
        "outputId": "9873c375-83f6-43fe-cabf-3328227450a3"
      },
      "source": [
        "d[\"bir\"]"
      ],
      "execution_count": null,
      "outputs": [
        {
          "output_type": "execute_result",
          "data": {
            "text/plain": [
              "1"
            ]
          },
          "metadata": {
            "tags": []
          },
          "execution_count": 3
        }
      ]
    },
    {
      "cell_type": "code",
      "metadata": {
        "id": "XcQe9FbTtxhu",
        "colab_type": "code",
        "colab": {
          "base_uri": "https://localhost:8080/",
          "height": 167
        },
        "outputId": "97d4c446-ab5c-434f-ae4d-ea8c62f0db6c"
      },
      "source": [
        "d[\"iki\"]"
      ],
      "execution_count": null,
      "outputs": [
        {
          "output_type": "error",
          "ename": "KeyError",
          "evalue": "ignored",
          "traceback": [
            "\u001b[0;31m---------------------------------------------------------------------------\u001b[0m",
            "\u001b[0;31mKeyError\u001b[0m                                  Traceback (most recent call last)",
            "\u001b[0;32m<ipython-input-4-b525d2a6a401>\u001b[0m in \u001b[0;36m<module>\u001b[0;34m()\u001b[0m\n\u001b[0;32m----> 1\u001b[0;31m \u001b[0md\u001b[0m\u001b[0;34m[\u001b[0m\u001b[0;34m\"iki\"\u001b[0m\u001b[0;34m]\u001b[0m\u001b[0;34m\u001b[0m\u001b[0;34m\u001b[0m\u001b[0m\n\u001b[0m",
            "\u001b[0;31mKeyError\u001b[0m: 'iki'"
          ]
        }
      ]
    },
    {
      "cell_type": "code",
      "metadata": {
        "id": "1pMyfFyJt4JP",
        "colab_type": "code",
        "colab": {
          "base_uri": "https://localhost:8080/",
          "height": 69
        },
        "outputId": "36a2d78a-8486-43a4-93f4-e545fc1960dd"
      },
      "source": [
        "dd = defaultdict(lambda: 0)\n",
        "\n",
        "print(dd[\"bir\"])\n",
        "\n",
        "# print(dd[\"iki\"])\n",
        "\n",
        "dd[\"uc\"] = 3\n",
        "\n",
        "# print(dd[\"uc\"])\n",
        "\n",
        "\n",
        "for anahtar in dd:\n",
        "  print(anahtar)"
      ],
      "execution_count": null,
      "outputs": [
        {
          "output_type": "stream",
          "text": [
            "0\n",
            "bir\n",
            "uc\n"
          ],
          "name": "stdout"
        }
      ]
    },
    {
      "cell_type": "code",
      "metadata": {
        "id": "yrav6HxxuSNt",
        "colab_type": "code",
        "colab": {
          "base_uri": "https://localhost:8080/",
          "height": 34
        },
        "outputId": "d136e51c-4ce7-4b81-fbe2-3ddaea6e681f"
      },
      "source": [
        "dd = defaultdict(list)\n",
        "\n",
        "dd[\"bir\"]"
      ],
      "execution_count": null,
      "outputs": [
        {
          "output_type": "execute_result",
          "data": {
            "text/plain": [
              "3"
            ]
          },
          "metadata": {
            "tags": []
          },
          "execution_count": 13
        }
      ]
    },
    {
      "cell_type": "code",
      "metadata": {
        "id": "uYxpfDGevcIc",
        "colab_type": "code",
        "colab": {
          "base_uri": "https://localhost:8080/",
          "height": 34
        },
        "outputId": "500555c7-a1f2-4902-ed93-463d672fea16"
      },
      "source": [
        "benim_stringim = \"aaaabbbbccccccsakdfjsakldfjaslkdfj\"\n",
        "\n",
        "d = {}\n",
        "\n",
        "for karakter in benim_stringim:\n",
        "  if d.get(karakter, None) is None:\n",
        "    d[karakter] = 1\n",
        "  else:\n",
        "    d[karakter] += 1\n",
        "\n",
        "print(d)"
      ],
      "execution_count": null,
      "outputs": [
        {
          "output_type": "stream",
          "text": [
            "{'a': 7, 'b': 4, 'c': 6, 's': 3, 'k': 3, 'd': 3, 'f': 3, 'j': 3, 'l': 2}\n"
          ],
          "name": "stdout"
        }
      ]
    },
    {
      "cell_type": "code",
      "metadata": {
        "id": "GF0tCf56v8T7",
        "colab_type": "code",
        "colab": {
          "base_uri": "https://localhost:8080/",
          "height": 34
        },
        "outputId": "23bc782d-1e7f-4eae-959d-8d0e5e65e44f"
      },
      "source": [
        "dd = defaultdict(lambda: 0)\n",
        "\n",
        "for karakter in benim_stringim:\n",
        "  dd[karakter] += 1\n",
        "\n",
        "print(dd)"
      ],
      "execution_count": null,
      "outputs": [
        {
          "output_type": "stream",
          "text": [
            "defaultdict(<function <lambda> at 0x7f8ef8a35b70>, {'a': 7, 'b': 4, 'c': 6, 's': 3, 'k': 3, 'd': 3, 'f': 3, 'j': 3, 'l': 2})\n"
          ],
          "name": "stdout"
        }
      ]
    },
    {
      "cell_type": "code",
      "metadata": {
        "id": "4WF8Flo5wY4c",
        "colab_type": "code",
        "colab": {}
      },
      "source": [
        "from collections import OrderedDict"
      ],
      "execution_count": null,
      "outputs": []
    },
    {
      "cell_type": "code",
      "metadata": {
        "id": "eT4C70egwXf3",
        "colab_type": "code",
        "colab": {}
      },
      "source": [
        "od = OrderedDict()\n",
        "\n",
        "od[\"a\"] = 1\n",
        "od[\"b\"] = 2\n",
        "od[\"c\"] = 3"
      ],
      "execution_count": null,
      "outputs": []
    },
    {
      "cell_type": "code",
      "metadata": {
        "id": "CmKwkwQS90C-",
        "colab_type": "code",
        "colab": {
          "base_uri": "https://localhost:8080/",
          "height": 34
        },
        "outputId": "63116976-983a-4c0e-9070-6ddca4217814"
      },
      "source": [
        "print(od)"
      ],
      "execution_count": null,
      "outputs": [
        {
          "output_type": "stream",
          "text": [
            "OrderedDict([('a', 1), ('b', 2), ('c', 3)])\n"
          ],
          "name": "stdout"
        }
      ]
    },
    {
      "cell_type": "code",
      "metadata": {
        "id": "EYdl8Mnn91G3",
        "colab_type": "code",
        "colab": {
          "base_uri": "https://localhost:8080/",
          "height": 69
        },
        "outputId": "4dc729cd-f0c6-4c19-9618-9e9e75a540a7"
      },
      "source": [
        "for anahtar_kelime, deger in od.items():\n",
        "  print(anahtar_kelime, deger)"
      ],
      "execution_count": null,
      "outputs": [
        {
          "output_type": "stream",
          "text": [
            "a 1\n",
            "b 2\n",
            "c 3\n"
          ],
          "name": "stdout"
        }
      ]
    },
    {
      "cell_type": "code",
      "metadata": {
        "id": "qoP3imYl96Cu",
        "colab_type": "code",
        "colab": {}
      },
      "source": [
        "d = {}\n",
        "\n",
        "d[\"b\"] = 2\n",
        "d[\"c\"] = 3\n",
        "d[\"a\"] = 1"
      ],
      "execution_count": null,
      "outputs": []
    },
    {
      "cell_type": "code",
      "metadata": {
        "id": "L9FffxBS-BDf",
        "colab_type": "code",
        "colab": {
          "base_uri": "https://localhost:8080/",
          "height": 69
        },
        "outputId": "b5ca1539-b505-4c07-e28c-8b565adef5b4"
      },
      "source": [
        "for anahtar_kelime, deger in d.items():\n",
        "  print(anahtar_kelime, deger)"
      ],
      "execution_count": null,
      "outputs": [
        {
          "output_type": "stream",
          "text": [
            "b 2\n",
            "c 3\n",
            "a 1\n"
          ],
          "name": "stdout"
        }
      ]
    },
    {
      "cell_type": "code",
      "metadata": {
        "id": "dbbVZ_wR-Z1R",
        "colab_type": "code",
        "colab": {}
      },
      "source": [
        "from collections import namedtuple"
      ],
      "execution_count": null,
      "outputs": []
    },
    {
      "cell_type": "code",
      "metadata": {
        "id": "JM_9iFqMA9x8",
        "colab_type": "code",
        "colab": {}
      },
      "source": [
        "koordinatlar = (10, 20, 30)"
      ],
      "execution_count": null,
      "outputs": []
    },
    {
      "cell_type": "code",
      "metadata": {
        "id": "eOSDSXV9BBnA",
        "colab_type": "code",
        "colab": {
          "base_uri": "https://localhost:8080/",
          "height": 34
        },
        "outputId": "568278a3-4440-4fab-d3b2-c7cfe91005f3"
      },
      "source": [
        "koordinatlar[0]"
      ],
      "execution_count": null,
      "outputs": [
        {
          "output_type": "execute_result",
          "data": {
            "text/plain": [
              "10"
            ]
          },
          "metadata": {
            "tags": []
          },
          "execution_count": 28
        }
      ]
    },
    {
      "cell_type": "code",
      "metadata": {
        "id": "tLAwo-lXBFEl",
        "colab_type": "code",
        "colab": {
          "base_uri": "https://localhost:8080/",
          "height": 34
        },
        "outputId": "0cc3e5d5-e91b-49b5-9e42-8d6e19077771"
      },
      "source": [
        "koordinatlar[1]"
      ],
      "execution_count": null,
      "outputs": [
        {
          "output_type": "execute_result",
          "data": {
            "text/plain": [
              "20"
            ]
          },
          "metadata": {
            "tags": []
          },
          "execution_count": 29
        }
      ]
    },
    {
      "cell_type": "code",
      "metadata": {
        "id": "AH0ONnHeBGf3",
        "colab_type": "code",
        "colab": {
          "base_uri": "https://localhost:8080/",
          "height": 34
        },
        "outputId": "73359553-44c6-49b5-9625-30b7b073166e"
      },
      "source": [
        "koordinatlar[2]"
      ],
      "execution_count": null,
      "outputs": [
        {
          "output_type": "execute_result",
          "data": {
            "text/plain": [
              "30"
            ]
          },
          "metadata": {
            "tags": []
          },
          "execution_count": 30
        }
      ]
    },
    {
      "cell_type": "code",
      "metadata": {
        "id": "laNYeX6lBHM3",
        "colab_type": "code",
        "colab": {}
      },
      "source": [
        "Koordinatlar = namedtuple(\"Koordinatlar\", \"x y z\")"
      ],
      "execution_count": null,
      "outputs": []
    },
    {
      "cell_type": "code",
      "metadata": {
        "id": "ygP2vyXUBvIF",
        "colab_type": "code",
        "colab": {}
      },
      "source": [
        "koordinatlar = Koordinatlar(x=10, y=20, z=30)"
      ],
      "execution_count": null,
      "outputs": []
    },
    {
      "cell_type": "code",
      "metadata": {
        "id": "pJkMDLUYB7at",
        "colab_type": "code",
        "colab": {
          "base_uri": "https://localhost:8080/",
          "height": 34
        },
        "outputId": "e1874eac-0525-4e6e-d77e-f3814120ff31"
      },
      "source": [
        "koordinatlar"
      ],
      "execution_count": null,
      "outputs": [
        {
          "output_type": "execute_result",
          "data": {
            "text/plain": [
              "Koordinatlar(x=10, y=20, z=30)"
            ]
          },
          "metadata": {
            "tags": []
          },
          "execution_count": 33
        }
      ]
    },
    {
      "cell_type": "code",
      "metadata": {
        "id": "DKwchopOB861",
        "colab_type": "code",
        "colab": {
          "base_uri": "https://localhost:8080/",
          "height": 34
        },
        "outputId": "5f9f7040-e498-4a6a-d6e6-d27a5afb36b5"
      },
      "source": [
        "koordinatlar.x"
      ],
      "execution_count": null,
      "outputs": [
        {
          "output_type": "execute_result",
          "data": {
            "text/plain": [
              "10"
            ]
          },
          "metadata": {
            "tags": []
          },
          "execution_count": 34
        }
      ]
    },
    {
      "cell_type": "code",
      "metadata": {
        "id": "hRbbS6TPCA7D",
        "colab_type": "code",
        "colab": {
          "base_uri": "https://localhost:8080/",
          "height": 34
        },
        "outputId": "916addb9-a51e-4025-ffbc-dd8ea1f30487"
      },
      "source": [
        "koordinatlar.y"
      ],
      "execution_count": null,
      "outputs": [
        {
          "output_type": "execute_result",
          "data": {
            "text/plain": [
              "20"
            ]
          },
          "metadata": {
            "tags": []
          },
          "execution_count": 35
        }
      ]
    },
    {
      "cell_type": "code",
      "metadata": {
        "id": "Q10ok5EXCDb-",
        "colab_type": "code",
        "colab": {
          "base_uri": "https://localhost:8080/",
          "height": 34
        },
        "outputId": "a7fbc51e-7617-4ee8-a059-7489b3117688"
      },
      "source": [
        "koordinatlar.z"
      ],
      "execution_count": null,
      "outputs": [
        {
          "output_type": "execute_result",
          "data": {
            "text/plain": [
              "30"
            ]
          },
          "metadata": {
            "tags": []
          },
          "execution_count": 36
        }
      ]
    },
    {
      "cell_type": "code",
      "metadata": {
        "id": "2xukY-cVCEJN",
        "colab_type": "code",
        "colab": {
          "base_uri": "https://localhost:8080/",
          "height": 34
        },
        "outputId": "8fb0f9de-544c-432f-9ea5-f2cc5725b6f9"
      },
      "source": [
        "koordinatlar[0]"
      ],
      "execution_count": null,
      "outputs": [
        {
          "output_type": "execute_result",
          "data": {
            "text/plain": [
              "10"
            ]
          },
          "metadata": {
            "tags": []
          },
          "execution_count": 37
        }
      ]
    },
    {
      "cell_type": "code",
      "metadata": {
        "id": "YzFDBSRMCH-f",
        "colab_type": "code",
        "colab": {
          "base_uri": "https://localhost:8080/",
          "height": 34
        },
        "outputId": "11f087ec-48bc-4e11-fc6e-d7ae9a4e1914"
      },
      "source": [
        "koordinatlar[1]"
      ],
      "execution_count": null,
      "outputs": [
        {
          "output_type": "execute_result",
          "data": {
            "text/plain": [
              "20"
            ]
          },
          "metadata": {
            "tags": []
          },
          "execution_count": 38
        }
      ]
    },
    {
      "cell_type": "code",
      "metadata": {
        "id": "yUwQzc-6CKce",
        "colab_type": "code",
        "colab": {
          "base_uri": "https://localhost:8080/",
          "height": 34
        },
        "outputId": "6a9f0114-e991-4fd3-e6f7-bab7da78435d"
      },
      "source": [
        "koordinatlar[2]"
      ],
      "execution_count": null,
      "outputs": [
        {
          "output_type": "execute_result",
          "data": {
            "text/plain": [
              "30"
            ]
          },
          "metadata": {
            "tags": []
          },
          "execution_count": 39
        }
      ]
    },
    {
      "cell_type": "code",
      "metadata": {
        "id": "V6h--y-NCLGP",
        "colab_type": "code",
        "colab": {}
      },
      "source": [
        "Kopek = namedtuple(\"Kopek\", \"isim yas cins\")"
      ],
      "execution_count": null,
      "outputs": []
    },
    {
      "cell_type": "code",
      "metadata": {
        "id": "rjCvWVC1CTTt",
        "colab_type": "code",
        "colab": {}
      },
      "source": [
        "kopek = Kopek(isim=\"cakil\", yas=5, cins=\"lab\")\n"
      ],
      "execution_count": null,
      "outputs": []
    },
    {
      "cell_type": "code",
      "metadata": {
        "id": "Hn4cglw9Cprf",
        "colab_type": "code",
        "colab": {
          "base_uri": "https://localhost:8080/",
          "height": 34
        },
        "outputId": "d3e8cfbf-5973-425e-d3ab-fcafdeab348b"
      },
      "source": [
        "kopek.isim"
      ],
      "execution_count": null,
      "outputs": [
        {
          "output_type": "execute_result",
          "data": {
            "text/plain": [
              "'cakil'"
            ]
          },
          "metadata": {
            "tags": []
          },
          "execution_count": 42
        }
      ]
    },
    {
      "cell_type": "code",
      "metadata": {
        "id": "gjPPIf9cCq90",
        "colab_type": "code",
        "colab": {
          "base_uri": "https://localhost:8080/",
          "height": 34
        },
        "outputId": "cfd291c8-cbde-41ce-a44c-67013339569f"
      },
      "source": [
        "kopek.yas"
      ],
      "execution_count": null,
      "outputs": [
        {
          "output_type": "execute_result",
          "data": {
            "text/plain": [
              "5"
            ]
          },
          "metadata": {
            "tags": []
          },
          "execution_count": 43
        }
      ]
    },
    {
      "cell_type": "code",
      "metadata": {
        "id": "svZ37TZJCryu",
        "colab_type": "code",
        "colab": {
          "base_uri": "https://localhost:8080/",
          "height": 34
        },
        "outputId": "e1d3171c-a88b-4d20-b2b9-57e7d85dec9b"
      },
      "source": [
        "kopek.cins"
      ],
      "execution_count": null,
      "outputs": [
        {
          "output_type": "execute_result",
          "data": {
            "text/plain": [
              "'lab'"
            ]
          },
          "metadata": {
            "tags": []
          },
          "execution_count": 44
        }
      ]
    },
    {
      "cell_type": "code",
      "metadata": {
        "id": "ImOPpfwHCs0W",
        "colab_type": "code",
        "colab": {
          "base_uri": "https://localhost:8080/",
          "height": 167
        },
        "outputId": "7727fd01-c245-4d84-97b5-4fadbe874f2e"
      },
      "source": [
        "kopek.isim = \"asdf\""
      ],
      "execution_count": null,
      "outputs": [
        {
          "output_type": "error",
          "ename": "AttributeError",
          "evalue": "ignored",
          "traceback": [
            "\u001b[0;31m---------------------------------------------------------------------------\u001b[0m",
            "\u001b[0;31mAttributeError\u001b[0m                            Traceback (most recent call last)",
            "\u001b[0;32m<ipython-input-45-c8b28c4ecb31>\u001b[0m in \u001b[0;36m<module>\u001b[0;34m()\u001b[0m\n\u001b[0;32m----> 1\u001b[0;31m \u001b[0mkopek\u001b[0m\u001b[0;34m.\u001b[0m\u001b[0misim\u001b[0m \u001b[0;34m=\u001b[0m \u001b[0;34m\"asdf\"\u001b[0m\u001b[0;34m\u001b[0m\u001b[0;34m\u001b[0m\u001b[0m\n\u001b[0m",
            "\u001b[0;31mAttributeError\u001b[0m: can't set attribute"
          ]
        }
      ]
    },
    {
      "cell_type": "code",
      "metadata": {
        "id": "L3nm5E0QC1E2",
        "colab_type": "code",
        "colab": {}
      },
      "source": [
        ""
      ],
      "execution_count": null,
      "outputs": []
    }
  ]
}