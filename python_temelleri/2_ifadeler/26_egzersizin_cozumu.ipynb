{
 "cells": [
  {
   "cell_type": "code",
   "execution_count": 19,
   "metadata": {},
   "outputs": [
    {
     "name": "stdout",
     "output_type": "stream",
     "text": [
      "Lutfen yapmak istediginiz islemi giriniz: 3er\n",
      "Girilen degerlerde hata var...\n",
      "Lutfen yapmak istediginiz islemi giriniz: 5345345 * 13434.123123\n",
      "Girilen islemin sonucu: 5345345 * 13434.123123 = 71810022864.9124\n"
     ]
    }
   ],
   "source": [
    "islem_gecersiz = True\n",
    "\n",
    "while islem_gecersiz:\n",
    "    islem = input(\"Lutfen yapmak istediginiz islemi giriniz: \")\n",
    "    islem = islem.split(\" \")\n",
    "    \n",
    "    try:\n",
    "        ilk_numara = islem[0]\n",
    "        operator = islem[1]\n",
    "        ikinci_numara = islem[2]\n",
    "\n",
    "        if \".\" in ilk_numara:\n",
    "            ilk_numara = float(ilk_numara)\n",
    "        else:\n",
    "            ilk_numara = int(ilk_numara)\n",
    "\n",
    "        if \".\" in ikinci_numara:\n",
    "            ikinci_numara = float(ikinci_numara)\n",
    "        else:\n",
    "            ikinci_numara = int(ikinci_numara)\n",
    "            \n",
    "        if operator not in \"+-/*\":\n",
    "            raise ValueError\n",
    "    except:\n",
    "        print(\"Girilen degerlerde hata var...\")\n",
    "    else:\n",
    "        if operator == \"+\":\n",
    "            sonuc = ilk_numara + ikinci_numara\n",
    "        elif operator == \"-\":\n",
    "            sonuc = ilk_numara - ikinci_numara\n",
    "        elif operator == \"*\":\n",
    "            sonuc = ilk_numara * ikinci_numara\n",
    "        elif operator == \"/\":\n",
    "            sonuc = ilk_numara / ikinci_numara\n",
    "            \n",
    "        islem_gecersiz = False\n",
    "\n",
    "        print(f\"Girilen islemin sonucu: {ilk_numara} {operator} {ikinci_numara} = {sonuc:.4f}\")"
   ]
  },
  {
   "cell_type": "code",
   "execution_count": 17,
   "metadata": {},
   "outputs": [
    {
     "name": "stdout",
     "output_type": "stream",
     "text": [
      "Hersey yolunda!!!\n"
     ]
    }
   ],
   "source": []
  },
  {
   "cell_type": "code",
   "execution_count": null,
   "metadata": {},
   "outputs": [],
   "source": []
  }
 ],
 "metadata": {
  "kernelspec": {
   "display_name": "Python 3",
   "language": "python",
   "name": "python3"
  },
  "language_info": {
   "codemirror_mode": {
    "name": "ipython",
    "version": 3
   },
   "file_extension": ".py",
   "mimetype": "text/x-python",
   "name": "python",
   "nbconvert_exporter": "python",
   "pygments_lexer": "ipython3",
   "version": "3.7.4"
  }
 },
 "nbformat": 4,
 "nbformat_minor": 2
}
