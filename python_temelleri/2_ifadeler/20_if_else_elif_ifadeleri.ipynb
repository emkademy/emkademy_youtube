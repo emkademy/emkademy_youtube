{
 "cells": [
  {
   "cell_type": "markdown",
   "metadata": {},
   "source": [
    "# If-else-elif ifadeleri:\n",
    "\n",
    "* Python'da If-else-elif ifadeleri programin akisina yon vermek icin kullanilir. Programinizda belli bloklarin sadece belli kosullar altinda calismasini istiyorsaniz eger, bu ifadelerden faydalanabilirsiniz.\n",
    "\n",
    "* **if** (Tukce karsiligi: **eger**) ifadesi her zaman Python'daki **bool** veri turu ile beraber kullanilir. Bu ifadenin yanina konulan *bool* veri turu **True (dogru)** ise, **if** ifadesi ile olusturulan blok kod calistirilir. Ancak *bool* veri turu **False (yanlis)** ise, bu blok kod atlanir (yani calistirilmaz).\n",
    "\n",
    "* **else** ve **elif** ifadeleri ise **if** ifadesiyle beraber kullanilir. *if* ifadesi olmadan bunlari kullanmak mumkun degildir. *else*, *if* den sonra kullanilirsa eger, *if* ifadesindeki blok kod atlandigi zaman *else* ifadesindeki blok kod calistirilir. *elif* ifadesi ise birden cok kural (sart) konulmak istenildiginde kullanilir. \n",
    "\n",
    "* *if* ifadesinin yanina herhangi bir *bool* degeri konulabilecegi icin, bir onceki derslerde ogrendigimiz karsilastirma operasyonlarindan faydalanabiliriz. Cunku daha oncede bahsettigimiz gibi, bu operasyonlar bize bir *bool* degeri (karsilastirma operasyonu dogru ise *True*, yanlis ise *False*) dondurur.\n",
    "\n",
    "__Ornerkler:__\n",
    "\n",
    "```python\n",
    "'''\n",
    "Karsilastirma operasyonu bize dogru dondurecegi icin, if blogundaki kod calistirilacak\n",
    "Burada dikkat ettiyseniz eger karsilastirma operasyonundan sonra \":\" isareti koyduk. Bu Daha oncede gordugumuz gibi \n",
    "blok olusturmada kullaniliyordu. Blogun icindeki satirlar, satirin basindan belli bir miktarfa bosluk birakilarak olusturuluyordu.\n",
    "\n",
    "Asagidaki kodu calistirdigimiz zaman, karsilastirma operasyonu dogru oldugu icin, ekrana \"Sinavdan alinan not: 3\" yazdirildigini goruruz\n",
    "'''\n",
    "alinan_not = 67\n",
    "if alinan_not == 67:\n",
    "    print(\"Sinavdan alinan not: 3\")\n",
    "    print(\"asdasd\")\n",
    "\n",
    "\n",
    "'''\n",
    "Karsilastirma operasyonu yanlis oldugu icin, if blogundaki kod atlanacaktir. Bundan dolayi ekrana hicbir sey yazdirilmadigini gorursunuz\n",
    "'''\n",
    "alinan_not = 67\n",
    "if alinan_not == 70:\n",
    "    print(\"Sinavdan alinan not: 3\")\n",
    "    \n",
    "    \n",
    "# Ayni sekilde:\n",
    "alinan_not = 83\n",
    "\n",
    "if alinan_not < 45:\n",
    "    print(\"Sinavdan alinan not: 1\")\n",
    "elif alinan_not > 45 and alinan_not < 60:\n",
    "    print(\"Sinavdan alinan not: 2\")\n",
    "elif alinan_not > 60 and alinan_not < 70:\n",
    "    print(\"Sinavdan alinan not: 3\")\n",
    "elif alinan_not > 70 and alinan_not < 85:\n",
    "    print(\"Sinavdan alinan not: 4\")\n",
    "else:\n",
    "    print(\"Sinavdan alinan not: 5\")\n",
    "```"
   ]
  },
  {
   "cell_type": "code",
   "execution_count": 1,
   "metadata": {},
   "outputs": [],
   "source": [
    "alinan_not = 67"
   ]
  },
  {
   "cell_type": "code",
   "execution_count": 6,
   "metadata": {},
   "outputs": [],
   "source": [
    "if False:\n",
    "    print(\"Sinandan alinan not: 3\")"
   ]
  },
  {
   "cell_type": "code",
   "execution_count": 10,
   "metadata": {},
   "outputs": [
    {
     "name": "stdout",
     "output_type": "stream",
     "text": [
      "Sinavdan alinan not: 5\n"
     ]
    }
   ],
   "source": [
    "alinan_not = 123141\n",
    "\n",
    "if alinan_not < 45:\n",
    "    print(\"Sinavdan alinan not: 1\")\n",
    "elif alinan_not > 45 and alinan_not < 60:\n",
    "    print(\"Sinavdan alinan not: 2\")\n",
    "elif alinan_not > 60 and alinan_not < 70:\n",
    "    print(\"Sinavdan alinan not: 3\")\n",
    "elif alinan_not > 70 and alinan_not < 85:\n",
    "    print(\"Sinavdan alinan not: 4\")\n",
    "else:\n",
    "    print(\"Sinavdan alinan not: 5\")"
   ]
  },
  {
   "cell_type": "code",
   "execution_count": 13,
   "metadata": {},
   "outputs": [],
   "source": [
    "string = \"Selam!\"\n",
    "\n",
    "if string == \"selam!\":\n",
    "    print(\"Selam!\")"
   ]
  },
  {
   "cell_type": "code",
   "execution_count": 14,
   "metadata": {},
   "outputs": [
    {
     "name": "stdout",
     "output_type": "stream",
     "text": [
      "listenin uzunlugu 5\n"
     ]
    }
   ],
   "source": [
    "liste = [1, 2, 3, 4, 5]\n",
    "\n",
    "if len(liste) == 5:\n",
    "    print(\"listenin uzunlugu 5\")"
   ]
  },
  {
   "cell_type": "code",
   "execution_count": 15,
   "metadata": {},
   "outputs": [
    {
     "name": "stdout",
     "output_type": "stream",
     "text": [
      "listeinin uzunlugu 6 degil\n"
     ]
    }
   ],
   "source": [
    "if len(liste) == 6:\n",
    "    print(\"listenin uzunlugu 6\")\n",
    "else:\n",
    "    print(\"listeinin uzunlugu 6 degil\")"
   ]
  },
  {
   "cell_type": "code",
   "execution_count": null,
   "metadata": {},
   "outputs": [],
   "source": []
  }
 ],
 "metadata": {
  "kernelspec": {
   "display_name": "Python 3",
   "language": "python",
   "name": "python3"
  },
  "language_info": {
   "codemirror_mode": {
    "name": "ipython",
    "version": 3
   },
   "file_extension": ".py",
   "mimetype": "text/x-python",
   "name": "python",
   "nbconvert_exporter": "python",
   "pygments_lexer": "ipython3",
   "version": "3.7.3"
  }
 },
 "nbformat": 4,
 "nbformat_minor": 2
}
