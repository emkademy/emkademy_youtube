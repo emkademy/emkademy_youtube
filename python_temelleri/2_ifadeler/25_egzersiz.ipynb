{
 "cells": [
  {
   "cell_type": "code",
   "execution_count": 2,
   "metadata": {},
   "outputs": [
    {
     "name": "stdout",
     "output_type": "stream",
     "text": [
      "Lutfen yapmak istediginiz islemi girin: e + 3\n",
      "Girilen degerlerde hata var\n",
      "Lutfen yapmak istediginiz islemi girin: 3 $ 6\n",
      "Girilen degerlerde hata var\n",
      "Lutfen yapmak istediginiz islemi girin: 6345345345.141214 / 124125151.12312314\n",
      "Girilen islemin sonucu: 6345345345.141214 / 124125151.12312314 = 51.1205\n"
     ]
    }
   ],
   "source": [
    "islem_gecersiz = True\n",
    "while islem_gecersiz:\n",
    "    islem = input(\"Lutfen yapmak istediginiz islemi girin: \")\n",
    "    ayristirilmis = islem.split(\" \")\n",
    "    try:\n",
    "        ilk_numara = ayristirilmis[0]\n",
    "        if \".\" in ilk_numara:\n",
    "            ilk_numara = float(ilk_numara)\n",
    "        else:\n",
    "            ilk_numara = int(ilk_numara)\n",
    "\n",
    "        operator = ayristirilmis[1]\n",
    "        if operator not in \"+-*/\":\n",
    "            raise ValueError\n",
    "\n",
    "        ikinci_numara = ayristirilmis[2]\n",
    "        if \".\" in ikinci_numara:\n",
    "            ikinci_numara = float(ikinci_numara)\n",
    "        else:\n",
    "            ikinci_numara = int(ikinci_numara)\n",
    "    except:\n",
    "        print(\"Girilen degerlerde hata var\")\n",
    "    else:\n",
    "        islem_gecersiz = False\n",
    "        if operator == \"+\":\n",
    "            sonuc = ilk_numara + ikinci_numara\n",
    "        elif operator == \"-\":\n",
    "            sonuc = ilk_numara - ikinci_numara\n",
    "        elif operator == \"*\":\n",
    "            sonuc = ilk_numara * ikinci_numara\n",
    "        else:\n",
    "            sonuc = ilk_numara / ikinci_numara\n",
    "\n",
    "        print(f\"Girilen islemin sonucu: {ilk_numara} {operator} {ikinci_numara} = {sonuc:5.4f}\")"
   ]
  },
  {
   "cell_type": "code",
   "execution_count": null,
   "metadata": {},
   "outputs": [],
   "source": []
  }
 ],
 "metadata": {
  "kernelspec": {
   "display_name": "Python 3",
   "language": "python",
   "name": "python3"
  },
  "language_info": {
   "codemirror_mode": {
    "name": "ipython",
    "version": 3
   },
   "file_extension": ".py",
   "mimetype": "text/x-python",
   "name": "python",
   "nbconvert_exporter": "python",
   "pygments_lexer": "ipython3",
   "version": "3.7.4"
  }
 },
 "nbformat": 4,
 "nbformat_minor": 2
}
