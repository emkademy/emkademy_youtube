{
 "cells": [
  {
   "cell_type": "code",
   "execution_count": 52,
   "metadata": {},
   "outputs": [],
   "source": [
    "class Hayvan:\n",
    "    def __init__(self, isim):\n",
    "        self.isim = isim\n",
    "        print(\"Merhaba!\")\n",
    "    \n",
    "    def yemek_ye(self):\n",
    "        print(\"Mniam, mniam, cok lezzetli!\")\n",
    "        \n",
    "    def kendini_tanit(self):\n",
    "        print(f\"Benim adim {self.isim}\")"
   ]
  },
  {
   "cell_type": "code",
   "execution_count": 63,
   "metadata": {},
   "outputs": [],
   "source": [
    "class Kopek(Hayvan):\n",
    "    def __init__(self, isim):\n",
    "        super().__init__(isim)\n",
    "\n",
    "    def yemek_ye(self):\n",
    "        print(\"mmm cok guzel\")"
   ]
  },
  {
   "cell_type": "code",
   "execution_count": 64,
   "metadata": {},
   "outputs": [],
   "source": [
    "class Kedi(Hayvan):\n",
    "    def __init__(self, isim):\n",
    "        super().__init__(isim)"
   ]
  },
  {
   "cell_type": "code",
   "execution_count": 65,
   "metadata": {},
   "outputs": [
    {
     "name": "stdout",
     "output_type": "stream",
     "text": [
      "Merhaba!\n"
     ]
    }
   ],
   "source": [
    "alfred = Kopek(\"alfred\")"
   ]
  },
  {
   "cell_type": "code",
   "execution_count": 69,
   "metadata": {},
   "outputs": [
    {
     "name": "stdout",
     "output_type": "stream",
     "text": [
      "Merhaba!\n"
     ]
    }
   ],
   "source": [
    "pamuk = Kedi(\"pamuk\")"
   ]
  },
  {
   "cell_type": "code",
   "execution_count": 72,
   "metadata": {},
   "outputs": [
    {
     "name": "stdout",
     "output_type": "stream",
     "text": [
      "<class '__main__.Kopek'>\n",
      "mmm cok guzel\n",
      "Benim adim alfred\n",
      "************************************************************\n",
      "<class '__main__.Kedi'>\n",
      "Mniam, mniam, cok lezzetli!\n",
      "Benim adim pamuk\n",
      "************************************************************\n"
     ]
    }
   ],
   "source": [
    "for hayvan in [alfred, pamuk]:\n",
    "    print(type(hayvan))\n",
    "    hayvan.yemek_ye()\n",
    "    hayvan.kendini_tanit()\n",
    "    print(60*\"*\")"
   ]
  },
  {
   "cell_type": "code",
   "execution_count": 89,
   "metadata": {},
   "outputs": [],
   "source": [
    "class DosyaAcici:\n",
    "    def __init__(self, dosyanin_konumu):\n",
    "        self.dosyanin_konumu = dosyanin_konumu\n",
    "        \n",
    "    def dosyayi_ac(self):\n",
    "        raise NotImplementedError(\"Dosyayi ac methodunu, classiniza ozel olarak sizin tanimlamaniz gerekiyor!\")"
   ]
  },
  {
   "cell_type": "code",
   "execution_count": 90,
   "metadata": {},
   "outputs": [],
   "source": [
    "class JsonAcici(DosyaAcici):\n",
    "    def __init__(self, dosyanin_konumu):\n",
    "        super().__init__(dosyanin_konumu)\n",
    "        \n",
    "    def dosyayi_ac(self):\n",
    "        print(f\"json dosyasi acildi!: {self.dosyanin_konumu}\")"
   ]
  },
  {
   "cell_type": "code",
   "execution_count": 91,
   "metadata": {},
   "outputs": [],
   "source": [
    "class WordAcici(DosyaAcici):\n",
    "    def __init__(self, dosyanin_konumu):\n",
    "        self.dosyanin_konumu = dosyanin_konumu\n",
    "        \n",
    "    def dosyayi_ac(self):\n",
    "        print(f\"word dosyasi acildi!: {self.dosyanin_konumu}\")"
   ]
  },
  {
   "cell_type": "code",
   "execution_count": 94,
   "metadata": {},
   "outputs": [],
   "source": [
    "dosyanin_konumu = \"/dosyanin/konumu/asd.json\"\n",
    "json_acici = JsonAcici(dosyanin_konumu)"
   ]
  },
  {
   "cell_type": "code",
   "execution_count": 95,
   "metadata": {},
   "outputs": [],
   "source": [
    "word_dosyasi_konumu = \"/dosyanin/konumu/asd.word\"\n",
    "word_acici = WordAcici(word_dosyasi_konumu)"
   ]
  },
  {
   "cell_type": "code",
   "execution_count": 96,
   "metadata": {
    "scrolled": true
   },
   "outputs": [
    {
     "name": "stdout",
     "output_type": "stream",
     "text": [
      "word dosyasi acildi!: /dosyanin/konumu/asd.word\n",
      "json dosyasi acildi!: /dosyanin/konumu/asd.json\n"
     ]
    }
   ],
   "source": [
    "for dosya in [word_acici, json_acici]:\n",
    "    dosya.dosyayi_ac()"
   ]
  }
 ],
 "metadata": {
  "kernelspec": {
   "display_name": "Python 3",
   "language": "python",
   "name": "python3"
  },
  "language_info": {
   "codemirror_mode": {
    "name": "ipython",
    "version": 3
   },
   "file_extension": ".py",
   "mimetype": "text/x-python",
   "name": "python",
   "nbconvert_exporter": "python",
   "pygments_lexer": "ipython3",
   "version": "3.7.4"
  }
 },
 "nbformat": 4,
 "nbformat_minor": 2
}
