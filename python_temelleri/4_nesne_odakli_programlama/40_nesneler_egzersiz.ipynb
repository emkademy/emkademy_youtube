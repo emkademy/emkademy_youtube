{
  "nbformat": 4,
  "nbformat_minor": 0,
  "metadata": {
    "colab": {
      "name": "40_nesneler_egzersiz.ipynb",
      "provenance": []
    },
    "kernelspec": {
      "name": "python3",
      "display_name": "Python 3"
    }
  },
  "cells": [
    {
      "cell_type": "markdown",
      "metadata": {
        "id": "Z-4SadcKMwro",
        "colab_type": "text"
      },
      "source": [
        "# İlk Egzersiz"
      ]
    },
    {
      "cell_type": "code",
      "metadata": {
        "id": "pIefHaDOJ5ng",
        "colab_type": "code",
        "colab": {}
      },
      "source": [
        "# 2 tane (x, y) şeklinde koordinat alarak, bir doğrunun denklemini oluştran nesne\n",
        "class Dogru:\n",
        "  pass"
      ],
      "execution_count": 0,
      "outputs": []
    },
    {
      "cell_type": "code",
      "metadata": {
        "id": "sLZ8ByobKeCk",
        "colab_type": "code",
        "colab": {}
      },
      "source": [
        "# Örnek koordinatlar\n",
        "koord1 = (10, 20)\n",
        "koord2 = (30, 40)\n",
        "dogru = Dogru(koord1, koord2)"
      ],
      "execution_count": 0,
      "outputs": []
    },
    {
      "cell_type": "code",
      "metadata": {
        "id": "nKKygaS2KqOX",
        "colab_type": "code",
        "colab": {}
      },
      "source": [
        "# Rasgele verilen 2 -x koordinatıyla, bu noktalara karşılık gelen -y koordinatlarını bulup,\n",
        "# bu 2 nokta arasındaki uzunluğu hesaplayan metod.\n",
        "y1, y2, dogrunun_uzunlugu = dogru.uzunluk(x1, x2)\n",
        "print(f\"({x1}, {y1}), ({x2}, {y2}) noktalari arasindaki uzaklik: {dogrunun_uzunlugu}\")"
      ],
      "execution_count": 0,
      "outputs": []
    },
    {
      "cell_type": "code",
      "metadata": {
        "id": "VJrX_aDbK4ac",
        "colab_type": "code",
        "colab": {}
      },
      "source": [
        "# Doğrunun eğimini döndüren metod\n",
        "dogrunun_egimi = dogru.egim()\n",
        "print(f\"Dogrunun egimi: {dogrunun_egimi}\")"
      ],
      "execution_count": 0,
      "outputs": []
    },
    {
      "cell_type": "markdown",
      "metadata": {
        "id": "yFrFvQ3KM7j-",
        "colab_type": "text"
      },
      "source": [
        "# İkinci Egzersiz\n",
        "\n",
        "Bu egzersizde bir banka hesabının basit bir simülasyonunu yapacağız. Bu simülasyonda, kişi öncelikle bir hesap açacak, ondan sonra bu hesaba para yatırıp çekebilecek. Tabikide programımız, para çekme konusunda biraz dikkatli olmalı. Eğer kişinin hesabında geterli para yoksa, banka para çekme işlemine izin vermemeli. Aynı zamanda, bu banka yaşı x'den küçük olanlara hesap açmıyor."
      ]
    },
    {
      "cell_type": "code",
      "metadata": {
        "id": "yZ21uvvqM9d5",
        "colab_type": "code",
        "colab": {}
      },
      "source": [
        "# Hesap açmak isteyen kişinin bilgileri\n",
        "class Kisi:\n",
        "  def __init__(self):\n",
        "    self.banka_hesabi = None"
      ],
      "execution_count": 0,
      "outputs": []
    },
    {
      "cell_type": "code",
      "metadata": {
        "id": "ncBHMST5OMJA",
        "colab_type": "code",
        "colab": {}
      },
      "source": [
        "class Banka:\n",
        "    pass"
      ],
      "execution_count": 0,
      "outputs": []
    },
    {
      "cell_type": "code",
      "metadata": {
        "id": "BdfT-YjyPkIo",
        "colab_type": "code",
        "colab": {}
      },
      "source": [
        "class BankaHesabi:\n",
        "    pass"
      ],
      "execution_count": 0,
      "outputs": []
    },
    {
      "cell_type": "code",
      "metadata": {
        "id": "5YB3-YL7O1-Y",
        "colab_type": "code",
        "colab": {}
      },
      "source": [
        "sadri = Kisi()\n",
        "salvar_bank = Banka()\n",
        "\n",
        "# Asağıdaki metodların hepsi, yapılan işleme dair ekrana bir bilgi mesajı yazdırıyor.\n",
        "salvar_bank.hesap_ac(sadri)\n",
        "sadri.banka_hesabi.para_yukle(500)\n",
        "sadri.banka_hesabi.para_cek(100)\n",
        "sadri.banka_hesabi.para_cek(1000)"
      ],
      "execution_count": 0,
      "outputs": []
    },
    {
      "cell_type": "code",
      "metadata": {
        "id": "tkxkMZGzQRZT",
        "colab_type": "code",
        "colab": {}
      },
      "source": [
        ""
      ],
      "execution_count": 0,
      "outputs": []
    }
  ]
}