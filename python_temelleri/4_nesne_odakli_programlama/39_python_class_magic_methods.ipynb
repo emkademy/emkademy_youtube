{
 "cells": [
  {
   "cell_type": "code",
   "execution_count": 1,
   "metadata": {},
   "outputs": [],
   "source": [
    "a = [1, 2, 3]"
   ]
  },
  {
   "cell_type": "code",
   "execution_count": 37,
   "metadata": {},
   "outputs": [
    {
     "data": {
      "text/plain": [
       "3"
      ]
     },
     "execution_count": 37,
     "metadata": {},
     "output_type": "execute_result"
    }
   ],
   "source": [
    "a[2]"
   ]
  },
  {
   "cell_type": "code",
   "execution_count": 2,
   "metadata": {},
   "outputs": [
    {
     "data": {
      "text/plain": [
       "3"
      ]
     },
     "execution_count": 2,
     "metadata": {},
     "output_type": "execute_result"
    }
   ],
   "source": [
    "len(a)"
   ]
  },
  {
   "cell_type": "code",
   "execution_count": 3,
   "metadata": {
    "scrolled": true
   },
   "outputs": [
    {
     "name": "stdout",
     "output_type": "stream",
     "text": [
      "[1, 2, 3]\n"
     ]
    }
   ],
   "source": [
    "print(a)"
   ]
  },
  {
   "cell_type": "code",
   "execution_count": 4,
   "metadata": {},
   "outputs": [
    {
     "data": {
      "text/plain": [
       "list"
      ]
     },
     "execution_count": 4,
     "metadata": {},
     "output_type": "execute_result"
    }
   ],
   "source": [
    "type(a)"
   ]
  },
  {
   "cell_type": "code",
   "execution_count": 42,
   "metadata": {},
   "outputs": [],
   "source": [
    "class BenimBlogum:\n",
    "    def __init__(self, yazarin_adi, yazinin_basligi, yazilma_tarihi):\n",
    "        self.yazarin_adi = yazarin_adi\n",
    "        self.yazinin_basligi = yazinin_basligi\n",
    "        self.yazilma_tarihi = yazilma_tarihi\n",
    "        self.yazilarim = [\"yazi1\", \"yazi2\", \"yazi3\", \"yazi4\"]\n",
    "        \n",
    "    def __str__(self):\n",
    "        return f\"{self.yazinin_basligi} yazisini, {self.yazarin_adi} {self.yazilma_tarihi} tarihinde yazmistir.\"\n",
    "    \n",
    "    def __len__(self):\n",
    "        return len(self.yazilarim)\n",
    "    \n",
    "    def __getitem__(self, index):\n",
    "        return self.yazilarim[index]\n",
    "    \n",
    "    def __repr__(self):\n",
    "        pass\n",
    "    \n",
    "    def __next__(self):\n",
    "        pass\n",
    "    \n",
    "    def __iter__(self):\n",
    "        pass\n",
    "    \n",
    "    def __hash__(self):\n",
    "        pass\n",
    "    \n",
    "    def __eq__(self):\n",
    "        pass\n",
    "    \n",
    "    def __getattr__(self):\n",
    "        pass\n",
    "    \n",
    "    def __setattr__(self):\n",
    "        pass\n",
    "    \n",
    "    def __getattribute__(self):\n",
    "        pass"
   ]
  },
  {
   "cell_type": "code",
   "execution_count": 43,
   "metadata": {},
   "outputs": [],
   "source": [
    "benim_blogum = BenimBlogum(\"Kivanc Yuksel\", \"Pythondaki ozel metodlar\", \"23 Subat 2020\")"
   ]
  },
  {
   "cell_type": "code",
   "execution_count": 44,
   "metadata": {},
   "outputs": [
    {
     "name": "stdout",
     "output_type": "stream",
     "text": [
      "Pythondaki ozel metodlar yazisini, Kivanc Yuksel 23 Subat 2020 tarihinde yazmistir.\n"
     ]
    }
   ],
   "source": [
    "print(benim_blogum)"
   ]
  },
  {
   "cell_type": "code",
   "execution_count": 45,
   "metadata": {},
   "outputs": [
    {
     "data": {
      "text/plain": [
       "'Pythondaki ozel metodlar yazisini, Kivanc Yuksel 23 Subat 2020 tarihinde yazmistir.'"
      ]
     },
     "execution_count": 45,
     "metadata": {},
     "output_type": "execute_result"
    }
   ],
   "source": [
    "str(benim_blogum)"
   ]
  },
  {
   "cell_type": "code",
   "execution_count": 46,
   "metadata": {},
   "outputs": [
    {
     "data": {
      "text/plain": [
       "4"
      ]
     },
     "execution_count": 46,
     "metadata": {},
     "output_type": "execute_result"
    }
   ],
   "source": [
    "len(benim_blogum)"
   ]
  },
  {
   "cell_type": "code",
   "execution_count": 50,
   "metadata": {},
   "outputs": [
    {
     "name": "stdout",
     "output_type": "stream",
     "text": [
      "su anda getitem methoduna girilen index: 3\n"
     ]
    },
    {
     "data": {
      "text/plain": [
       "'yazi4'"
      ]
     },
     "execution_count": 50,
     "metadata": {},
     "output_type": "execute_result"
    }
   ],
   "source": [
    "benim_blogum[3]"
   ]
  },
  {
   "cell_type": "code",
   "execution_count": null,
   "metadata": {},
   "outputs": [],
   "source": []
  }
 ],
 "metadata": {
  "kernelspec": {
   "display_name": "Python 3",
   "language": "python",
   "name": "python3"
  },
  "language_info": {
   "codemirror_mode": {
    "name": "ipython",
    "version": 3
   },
   "file_extension": ".py",
   "mimetype": "text/x-python",
   "name": "python",
   "nbconvert_exporter": "python",
   "pygments_lexer": "ipython3",
   "version": "3.7.4"
  }
 },
 "nbformat": 4,
 "nbformat_minor": 2
}
