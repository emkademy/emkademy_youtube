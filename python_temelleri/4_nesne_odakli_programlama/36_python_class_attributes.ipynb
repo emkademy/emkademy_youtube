{
 "cells": [
  {
   "cell_type": "code",
   "execution_count": 43,
   "metadata": {},
   "outputs": [],
   "source": [
    "class Insan:\n",
    "    def __init__(self, isim, yas, cinsiyet):\n",
    "        self.isim = isim\n",
    "        self.yas = yas\n",
    "        self.cinsiyet = cinsiyet"
   ]
  },
  {
   "cell_type": "code",
   "execution_count": 46,
   "metadata": {},
   "outputs": [],
   "source": [
    "mehmet_insani = Insan(isim=\"Mehmet\", yas=56, cinsiyet=\"erkek\")"
   ]
  },
  {
   "cell_type": "code",
   "execution_count": 48,
   "metadata": {},
   "outputs": [
    {
     "name": "stdout",
     "output_type": "stream",
     "text": [
      "Mehmet\n",
      "56\n",
      "erkek\n"
     ]
    }
   ],
   "source": [
    "print(mehmet_insani.isim)\n",
    "print(mehmet_insani.yas)\n",
    "print(mehmet_insani.cinsiyet)"
   ]
  },
  {
   "cell_type": "code",
   "execution_count": 50,
   "metadata": {},
   "outputs": [],
   "source": [
    "ayse_insani = Insan(isim=\"Ayse\", yas=23, cinsiyet=\"kadin\")"
   ]
  },
  {
   "cell_type": "code",
   "execution_count": 51,
   "metadata": {},
   "outputs": [
    {
     "name": "stdout",
     "output_type": "stream",
     "text": [
      "Ayse\n",
      "23\n",
      "kadin\n"
     ]
    }
   ],
   "source": [
    "print(ayse_insani.isim)\n",
    "print(ayse_insani.yas)\n",
    "print(ayse_insani.cinsiyet)"
   ]
  },
  {
   "cell_type": "code",
   "execution_count": null,
   "metadata": {},
   "outputs": [],
   "source": []
  }
 ],
 "metadata": {
  "kernelspec": {
   "display_name": "Python 3",
   "language": "python",
   "name": "python3"
  },
  "language_info": {
   "codemirror_mode": {
    "name": "ipython",
    "version": 3
   },
   "file_extension": ".py",
   "mimetype": "text/x-python",
   "name": "python",
   "nbconvert_exporter": "python",
   "pygments_lexer": "ipython3",
   "version": "3.7.4"
  }
 },
 "nbformat": 4,
 "nbformat_minor": 2
}
