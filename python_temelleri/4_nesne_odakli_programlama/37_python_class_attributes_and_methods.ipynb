{
 "cells": [
  {
   "cell_type": "code",
   "execution_count": 48,
   "metadata": {},
   "outputs": [],
   "source": [
    "class Insan:\n",
    "    ortak_ozellik = \"Nefes almak\"\n",
    "    def __init__(self, isim, yas, cinsiyet):\n",
    "        self.isim = isim\n",
    "        self.yas = yas\n",
    "        self.cinsiyet = cinsiyet\n",
    "        \n",
    "    def merhaba_de(self):\n",
    "        print(\"Merhaba!\")\n",
    "    \n",
    "    def kendini_tanit(self, sonradan_sor):\n",
    "        print(f\"Benim adim {self.isim}\")\n",
    "        print(sonradan_sor)"
   ]
  },
  {
   "cell_type": "code",
   "execution_count": 49,
   "metadata": {},
   "outputs": [],
   "source": [
    "mehmet_insani = Insan(isim=\"Mehmet\", yas=56, cinsiyet=\"erkek\")"
   ]
  },
  {
   "cell_type": "code",
   "execution_count": 50,
   "metadata": {},
   "outputs": [
    {
     "name": "stdout",
     "output_type": "stream",
     "text": [
      "Mehmet\n",
      "56\n",
      "erkek\n"
     ]
    },
    {
     "data": {
      "text/plain": [
       "'Nefes almak'"
      ]
     },
     "execution_count": 50,
     "metadata": {},
     "output_type": "execute_result"
    }
   ],
   "source": [
    "print(mehmet_insani.isim)\n",
    "print(mehmet_insani.yas)\n",
    "print(mehmet_insani.cinsiyet)\n",
    "Insan.ortak_ozellik"
   ]
  },
  {
   "cell_type": "code",
   "execution_count": 51,
   "metadata": {},
   "outputs": [
    {
     "name": "stdout",
     "output_type": "stream",
     "text": [
      "Merhaba!\n"
     ]
    }
   ],
   "source": [
    "mehmet_insani.merhaba_de()"
   ]
  },
  {
   "cell_type": "code",
   "execution_count": 61,
   "metadata": {},
   "outputs": [
    {
     "name": "stdout",
     "output_type": "stream",
     "text": [
      "Benim adim Mehmet\n",
      "Senin adin ne?\n"
     ]
    }
   ],
   "source": [
    "mehmet_insani.kendini_tanit(\"Senin adin ne?\")"
   ]
  },
  {
   "cell_type": "code",
   "execution_count": 80,
   "metadata": {},
   "outputs": [],
   "source": [
    "class Daire:\n",
    "    pi = 3.14\n",
    "    def __init__(self, r):\n",
    "        self.r = r\n",
    "        \n",
    "    def alanini_hesapla(self):\n",
    "        return self.pi * self.r**2\n",
    "\n",
    "    def cevre_hesapla(self):\n",
    "        return 2 * Daire.pi * self.r"
   ]
  },
  {
   "cell_type": "code",
   "execution_count": 81,
   "metadata": {},
   "outputs": [],
   "source": [
    "daire1 = Daire(10)"
   ]
  },
  {
   "cell_type": "code",
   "execution_count": 82,
   "metadata": {},
   "outputs": [
    {
     "data": {
      "text/plain": [
       "314.0"
      ]
     },
     "execution_count": 82,
     "metadata": {},
     "output_type": "execute_result"
    }
   ],
   "source": [
    "daire1.alanini_hesapla()"
   ]
  },
  {
   "cell_type": "code",
   "execution_count": 83,
   "metadata": {},
   "outputs": [],
   "source": [
    "daire2 = Daire(123)"
   ]
  },
  {
   "cell_type": "code",
   "execution_count": 84,
   "metadata": {},
   "outputs": [
    {
     "data": {
      "text/plain": [
       "47505.060000000005"
      ]
     },
     "execution_count": 84,
     "metadata": {},
     "output_type": "execute_result"
    }
   ],
   "source": [
    "daire2.alanini_hesapla()"
   ]
  },
  {
   "cell_type": "code",
   "execution_count": 85,
   "metadata": {},
   "outputs": [
    {
     "data": {
      "text/plain": [
       "62.800000000000004"
      ]
     },
     "execution_count": 85,
     "metadata": {},
     "output_type": "execute_result"
    }
   ],
   "source": [
    "daire1.cevre_hesapla()"
   ]
  },
  {
   "cell_type": "code",
   "execution_count": 86,
   "metadata": {},
   "outputs": [
    {
     "data": {
      "text/plain": [
       "772.44"
      ]
     },
     "execution_count": 86,
     "metadata": {},
     "output_type": "execute_result"
    }
   ],
   "source": [
    "daire2.cevre_hesapla()"
   ]
  },
  {
   "cell_type": "code",
   "execution_count": null,
   "metadata": {},
   "outputs": [],
   "source": []
  }
 ],
 "metadata": {
  "kernelspec": {
   "display_name": "Python 3",
   "language": "python",
   "name": "python3"
  },
  "language_info": {
   "codemirror_mode": {
    "name": "ipython",
    "version": 3
   },
   "file_extension": ".py",
   "mimetype": "text/x-python",
   "name": "python",
   "nbconvert_exporter": "python",
   "pygments_lexer": "ipython3",
   "version": "3.7.4"
  }
 },
 "nbformat": 4,
 "nbformat_minor": 2
}
