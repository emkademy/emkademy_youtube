{
 "cells": [
  {
   "cell_type": "code",
   "execution_count": null,
   "metadata": {},
   "outputs": [],
   "source": [
    "# Bu kütüphaneyi rastgele sayı üretmek için kullanabilirsiniz\n",
    "import random"
   ]
  },
  {
   "cell_type": "markdown",
   "metadata": {},
   "source": [
    "# Savaş Alanı\n",
    "\n",
    "* Savaş alanının boyutunu (satır ve sütün sayısını biz belirliyoruz)\n",
    "* Savaş alanının güncel görüntüsünü her el ekrana yazdırabilmek için \\_\\_str\\_\\_ metodu tanımlayın\n",
    "* SavasAlani class'ında hem kendimizin savaş alanını hem de bilgisayarın savaş alanını tanımlıyoruz\n",
    "* Kendi savaş alanımızdaki gemilerin konumlarını gösterirken, bilgisayarın savaş alanındaki gemilerin konumlarını bilmediğimiz için, bunları gösteremiyoruz\n",
    "* Savaş alanına yerleştirmek istenilen gemilerin koordinatlarını (ve yatay mı dıkey mı olduğunu) alan ve bu gemileri savaş alanını yerleştiren bir metod bulunuyor\n",
    "* Her el, hem kendi hemde bilgisayarın savaş alanını atış yapılan noktalara göre güncelleyen bir metod bulunuyor"
   ]
  },
  {
   "cell_type": "code",
   "execution_count": null,
   "metadata": {},
   "outputs": [],
   "source": [
    "class SavasAlani:\n",
    "    def __init__(self, n_satir, n_sutun):\n",
    "        pass"
   ]
  },
  {
   "cell_type": "markdown",
   "metadata": {},
   "source": [
    "# Savaş Gemileri\n",
    "* Bu class oyuncudan savaş gemilerini yerleştirmesini istediği koordinatları alıyor ve bu koordinatları SavasAlanı classına gönderiyor (oyuncu, bu koordinatların rastgele seçilmesini de isteyebilir)\n",
    "* Aynı zamanda bütün gemilerin batıp batmadığını kontrol eden bir metodu bulunuyor"
   ]
  },
  {
   "cell_type": "code",
   "execution_count": null,
   "metadata": {},
   "outputs": [],
   "source": [
    "class SavasGemileri:\n",
    "    def __init__(self, gemiler, savas_alani):\n",
    "        pass"
   ]
  },
  {
   "cell_type": "markdown",
   "metadata": {},
   "source": [
    "# Oyuncu\n",
    "\n",
    "* Oyuncu classı, her el oyuncudan atış yapmak istediği noktaların koordınatlarını alıyor, ve savaş alanını bu koordinatlara göre güncelliyor\n",
    "* Aynı zamanda bilgisayar oyuncusunun rastgele atışlar yapmasını sağlıyor"
   ]
  },
  {
   "cell_type": "code",
   "execution_count": null,
   "metadata": {},
   "outputs": [],
   "source": [
    "class Oyuncu:\n",
    "    def __init__(self, savas_alani, savas_gemileri, bilgisayar_mi):\n",
    "        pass"
   ]
  },
  {
   "cell_type": "markdown",
   "metadata": {},
   "source": [
    "# Amiral Battı\n",
    "* Bu class diğer yaratılan bütün classları kullanarak oyunun akışını yönetiyor\n",
    "* Görevlerinden bir tanesi ise rastgele savaş gemileri yaratmak (boyutlarını belirlemek, örn: 3, 5, 4"
   ]
  },
  {
   "cell_type": "code",
   "execution_count": null,
   "metadata": {},
   "outputs": [],
   "source": [
    "class AmiralBatti:\n",
    "    def __init__(self, n_satir, n_sutun, n_gemi):\n",
    "        oyuncu_savas_alani = SavasAlani(n_satir, n_sutun)\n",
    "        bilgisayar_savas_alani = SavasAlani(n_satir, n_sutun)\n",
    "        \n",
    "        # Gemileri yarat\n",
    "        self.gemiler = []\n",
    "        \n",
    "        oyuncu_savas_gemileri = SavasGemileri(self.gemiler, oyuncu_savas_alani)\n",
    "        bilgisayar_savas_gemileri = SavasGemileri(self.gemiler, bilgisayar_savas_alani)\n",
    "        \n",
    "        self.oyuncu = Oyuncu(oyuncu_savas_alani, oyuncu_savas_gemileri, False)\n",
    "        self.bilgisayar = Oyuncu(bilgisayar_savas_alani, bilgisayar_savas_gemileri, True)"
   ]
  },
  {
   "cell_type": "code",
   "execution_count": null,
   "metadata": {},
   "outputs": [],
   "source": [
    "n_satir = 10\n",
    "n_sutun = 10\n",
    "n_gemi = 4\n",
    "\n",
    "amiral_batti = AmiralBatti(n_satir, n_sutun, n_gemi)\n",
    "amiral_batti.basla()"
   ]
  }
 ],
 "metadata": {
  "kernelspec": {
   "display_name": "Python 3",
   "language": "python",
   "name": "python3"
  },
  "language_info": {
   "codemirror_mode": {
    "name": "ipython",
    "version": 3
   },
   "file_extension": ".py",
   "mimetype": "text/x-python",
   "name": "python",
   "nbconvert_exporter": "python",
   "pygments_lexer": "ipython3",
   "version": "3.7.4"
  }
 },
 "nbformat": 4,
 "nbformat_minor": 4
}
