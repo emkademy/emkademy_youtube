{
 "cells": [
  {
   "cell_type": "code",
   "execution_count": 1,
   "metadata": {},
   "outputs": [],
   "source": [
    "# Bu kütüphaneyi rastgele sayı üretmek için kullanabilirsiniz\n",
    "import random"
   ]
  },
  {
   "cell_type": "markdown",
   "metadata": {},
   "source": [
    "# Savaş Alanı\n",
    "\n",
    "* Savaş alanının boyutunu (satır ve sütün sayısını biz belirliyoruz)\n",
    "* Savaş alanının güncel görüntüsünü her el ekrana yazdırabilmek için \\_\\_str\\_\\_ metodu tanımlayın\n",
    "* SavasAlani class'ında hem kendimizin savaş alanını hem de bilgisayarın savaş alanını tanımlıyoruz\n",
    "* Kendi savaş alanımızdaki gemilerin konumlarını gösterirken, bilgisayarın savaş alanındaki gemilerin konumlarını bilmediğimiz için, bunları gösteremiyoruz\n",
    "* Savaş alanına yerleştirmek istenilen gemilerin koordinatlarını (ve yatay mı dıkey mı olduğunu) alan ve bu gemileri savaş alanını yerleştiren bir metod bulunuyor\n",
    "* Her el, hem kendi hemde bilgisayarın savaş alanını atış yapılan noktalara göre güncelleyen bir metod bulunuyor"
   ]
  },
  {
   "cell_type": "code",
   "execution_count": 38,
   "metadata": {},
   "outputs": [],
   "source": [
    "class SavasAlani:\n",
    "    def __init__(self, n_satir, n_sutun):\n",
    "        self.n_satir = n_satir\n",
    "        self.n_sutun = n_sutun\n",
    "        self.gemi_sekli = \"O\"\n",
    "        self.savas_alani = self.init_savas_alani()\n",
    "        self.diger_savas_alani = self.init_savas_alani()\n",
    "        \n",
    "    def init_savas_alani(self):\n",
    "        matris = []\n",
    "        for satir in range(self.n_satir):\n",
    "            matris.append([\"-\"]*self.n_sutun)\n",
    "        return matris\n",
    "    \n",
    "    def gemi_yerlestir(self, gemi, satir_numarasi, sutun_numarasi, yatay_dikey):\n",
    "        for i in range(gemi): # gemi = 4\n",
    "            if yatay_dikey == \"yatay\":\n",
    "                self.savas_alani[satir_numarasi][sutun_numarasi+i] = self.gemi_sekli\n",
    "            else:\n",
    "                self.savas_alani[satir_numarasi+i][sutun_numarasi] = self.gemi_sekli\n",
    "    \n",
    "    def __str__(self):\n",
    "        kendi_savas_alanimiz = self.savas_alani_olustur(self.savas_alani)\n",
    "        diger_savas_alani = self.savas_alani_olustur(self.diger_savas_alani)\n",
    "        \n",
    "        kendi_savas_alanimiz_liste = kendi_savas_alanimiz.split(\"\\n\")\n",
    "        diger_savas_alani_liste = diger_savas_alani.split(\"\\n\")\n",
    "        fazla_karakter = len(str(self.n_sutun)) - 1\n",
    "        diger_savas_alani_liste[0] = diger_savas_alani_liste[0][fazla_karakter:]\n",
    "\n",
    "        savas_alani_str = [(10*\" \").join([kendi, diger])\n",
    "                           for kendi, diger in zip(kendi_savas_alanimiz_liste, diger_savas_alani_liste)]\n",
    "        return \"\\n\".join(savas_alani_str)\n",
    "        \n",
    "    def savas_alani_olustur(self, savas_alani):\n",
    "        satir_numaralari = list(range(self.n_satir))\n",
    "        satir_numaralari = list(map(str, satir_numaralari))\n",
    "            \n",
    "        sutun_numaralari = list(range(self.n_sutun))\n",
    "        sutun_numaralari = list(map(str, sutun_numaralari))\n",
    "        \n",
    "        max_satir_numarasi = len(satir_numaralari[-1]) + 1\n",
    "        max_sutun_numarasi = len(sutun_numaralari[-1])\n",
    "        \n",
    "        bosluk_str = \" \" * max_satir_numarasi\n",
    "        savas_alani_str = bosluk_str\n",
    "        for sutun_numarasi in sutun_numaralari: # [\"0\", 1\", \"2\", \"3\",...,  \"10\"]\n",
    "            bosluk_sayisi = max_sutun_numarasi - len(sutun_numarasi) + 1\n",
    "            bosluk_str = \" \" * bosluk_sayisi\n",
    "            savas_alani_str += sutun_numarasi + bosluk_str\n",
    "        savas_alani_str = savas_alani_str[:-len(bosluk_str)]\n",
    "        savas_alani_str += \"\\n\"\n",
    "        \n",
    "        for satir_numarasi in satir_numaralari: # [\"0\", 1\", \"2\", \"3\"....]\n",
    "            bosluk_sayisi = max_satir_numarasi - len(satir_numarasi)\n",
    "            bosluk_str = \" \" * bosluk_sayisi\n",
    "            \n",
    "            satir = savas_alani[int(satir_numarasi)]\n",
    "            satir_str = (max_sutun_numarasi*\" \").join(satir)\n",
    "            \n",
    "            savas_alani_str += satir_numarasi + bosluk_str + satir_str + \"\\n\" \n",
    "        return savas_alani_str"
   ]
  },
  {
   "cell_type": "code",
   "execution_count": 39,
   "metadata": {
    "scrolled": true
   },
   "outputs": [
    {
     "name": "stdout",
     "output_type": "stream",
     "text": [
      "   0  1  2  3  4  5  6  7  8  9  10 11 12 13 14            0  1  2  3  4  5  6  7  8  9  10 11 12 13 14\n",
      "0  -  -  -  -  -  -  -  -  -  -  -  -  -  -  -          0  -  -  -  -  -  -  -  -  -  -  -  -  -  -  -\n",
      "1  -  -  -  -  -  -  -  -  -  -  -  -  -  -  -          1  -  -  -  -  -  -  -  -  -  -  -  -  -  -  -\n",
      "2  -  -  -  -  -  -  -  -  -  -  -  -  -  -  -          2  -  -  -  -  -  -  -  -  -  -  -  -  -  -  -\n",
      "3  -  -  -  -  -  -  -  -  -  -  -  -  -  -  -          3  -  -  -  -  -  -  -  -  -  -  -  -  -  -  -\n",
      "4  -  -  -  -  -  -  -  -  -  -  -  -  -  -  -          4  -  -  -  -  -  -  -  -  -  -  -  -  -  -  -\n",
      "5  -  -  -  -  -  -  -  -  -  -  -  -  -  -  -          5  -  -  -  -  -  -  -  -  -  -  -  -  -  -  -\n",
      "6  -  -  -  -  -  -  -  -  -  -  -  -  -  -  -          6  -  -  -  -  -  -  -  -  -  -  -  -  -  -  -\n",
      "7  -  -  -  -  -  -  -  -  -  -  -  -  -  -  -          7  -  -  -  -  -  -  -  -  -  -  -  -  -  -  -\n",
      "8  -  -  -  -  -  -  -  -  -  -  -  -  -  -  -          8  -  -  -  -  -  -  -  -  -  -  -  -  -  -  -\n",
      "9  -  -  -  -  -  -  -  -  -  -  -  -  -  -  -          9  -  -  -  -  -  -  -  -  -  -  -  -  -  -  -\n",
      "10 -  -  -  -  -  -  -  -  -  -  -  -  -  -  -          10 -  -  -  -  -  -  -  -  -  -  -  -  -  -  -\n",
      "11 -  -  -  -  -  -  -  -  -  -  -  -  -  -  -          11 -  -  -  -  -  -  -  -  -  -  -  -  -  -  -\n",
      "12 -  -  -  -  -  -  -  -  -  -  -  -  -  -  -          12 -  -  -  -  -  -  -  -  -  -  -  -  -  -  -\n",
      "13 -  -  -  -  -  -  -  -  -  -  -  -  -  -  -          13 -  -  -  -  -  -  -  -  -  -  -  -  -  -  -\n",
      "14 -  -  -  -  -  -  -  -  -  -  -  -  -  -  -          14 -  -  -  -  -  -  -  -  -  -  -  -  -  -  -\n",
      "          \n"
     ]
    }
   ],
   "source": [
    "savas_alani = SavasAlani(15, 15)\n",
    "print(savas_alani)"
   ]
  },
  {
   "cell_type": "markdown",
   "metadata": {},
   "source": [
    "# Savaş Gemileri\n",
    "* Bu class oyuncudan savaş gemilerini yerleştirmesini istediği koordinatları alıyor ve bu koordinatları SavasAlanı classına gönderiyor (oyuncu, bu koordinatların rastgele seçilmesini de isteyebilir)\n",
    "* Aynı zamanda bütün gemilerin batıp batmadığını kontrol eden bir metodu bulunuyor"
   ]
  },
  {
   "cell_type": "code",
   "execution_count": 40,
   "metadata": {},
   "outputs": [],
   "source": [
    "class SavasGemileri:\n",
    "    def __init__(self, gemiler, savas_alani):\n",
    "        self.gemiler = gemiler # [3, 5, 6, 3, 4]\n",
    "        self.savas_alani = savas_alani\n",
    "    \n",
    "    def gemilerin_koordinatlarini_al(self):\n",
    "        for gemi in self.gemiler:\n",
    "            satir_numarasi = None\n",
    "            sutun_numarasi = None\n",
    "            yatay_dikey = None\n",
    "            while satir_numarasi is None or sutun_numarasi is None or yatay_dikey is None:\n",
    "                try:\n",
    "                    girilen_degerler = self.kullanicilan_girilen_degerleri_al(gemi)\n",
    "                    satir_numarasi, sutun_numarasi, yatay_dikey = girilen_degerler.split(\" \")\n",
    "                    satir_numarasi = int(satir_numarasi)\n",
    "                    sutun_numarasi = int(sutun_numarasi)\n",
    "                except:\n",
    "                    print(\"Yanlis degerler girdiniz, lutfen bilgi mesajini dikkatlice okuyunuz\")\n",
    "                    satir_numarasi = None\n",
    "                    # sutun_numarasi = None\n",
    "                    # yatay_dikey = None \n",
    "                else:\n",
    "                    self.savas_alani.gemi_yerlestir(gemi, satir_numarasi, sutun_numarasi, yatay_dikey)\n",
    "        print(self.savas_alani)\n",
    "            \n",
    "    def kullanicilan_girilen_degerleri_al(self, gemi):\n",
    "        girilen_degerler = input(f\"\"\"\n",
    "Lutfen aralarinda bosluk birakarak {gemi} boyutundaki geminizi \n",
    "savas alaninda nereye koymak istediginizi girin. \n",
    "Girilen degerler sirasiyla: satir_numarasi (int), sutun_numarasi (int), yatay yada dikey (str)\n",
    "Savas alaninizin su anki hali:\n",
    "{self.savas_alani}\n",
    "\"\"\")\n",
    "        return girilen_degerler"
   ]
  },
  {
   "cell_type": "code",
   "execution_count": 41,
   "metadata": {
    "scrolled": true
   },
   "outputs": [
    {
     "name": "stdout",
     "output_type": "stream",
     "text": [
      "\n",
      "Lutfen aralarinda bosluk birakarak 3 boyutundaki geminizi \n",
      "savas alaninda nereye koymak istediginizi girin. \n",
      "Girilen degerler sirasiyla: satir_numarasi (int), sutun_numarasi (int), yatay yada dikey (str)\n",
      "Savas alaninizin su anki hali:\n",
      "   0  1  2  3  4  5  6  7  8  9  10 11 12 13 14            0  1  2  3  4  5  6  7  8  9  10 11 12 13 14\n",
      "0  -  -  -  -  -  -  -  -  -  -  -  -  -  -  -          0  -  -  -  -  -  -  -  -  -  -  -  -  -  -  -\n",
      "1  -  -  -  -  -  -  -  -  -  -  -  -  -  -  -          1  -  -  -  -  -  -  -  -  -  -  -  -  -  -  -\n",
      "2  -  -  -  -  -  -  -  -  -  -  -  -  -  -  -          2  -  -  -  -  -  -  -  -  -  -  -  -  -  -  -\n",
      "3  -  -  -  -  -  -  -  -  -  -  -  -  -  -  -          3  -  -  -  -  -  -  -  -  -  -  -  -  -  -  -\n",
      "4  -  -  -  -  -  -  -  -  -  -  -  -  -  -  -          4  -  -  -  -  -  -  -  -  -  -  -  -  -  -  -\n",
      "5  -  -  -  -  -  -  -  -  -  -  -  -  -  -  -          5  -  -  -  -  -  -  -  -  -  -  -  -  -  -  -\n",
      "6  -  -  -  -  -  -  -  -  -  -  -  -  -  -  -          6  -  -  -  -  -  -  -  -  -  -  -  -  -  -  -\n",
      "7  -  -  -  -  -  -  -  -  -  -  -  -  -  -  -          7  -  -  -  -  -  -  -  -  -  -  -  -  -  -  -\n",
      "8  -  -  -  -  -  -  -  -  -  -  -  -  -  -  -          8  -  -  -  -  -  -  -  -  -  -  -  -  -  -  -\n",
      "9  -  -  -  -  -  -  -  -  -  -  -  -  -  -  -          9  -  -  -  -  -  -  -  -  -  -  -  -  -  -  -\n",
      "10 -  -  -  -  -  -  -  -  -  -  -  -  -  -  -          10 -  -  -  -  -  -  -  -  -  -  -  -  -  -  -\n",
      "11 -  -  -  -  -  -  -  -  -  -  -  -  -  -  -          11 -  -  -  -  -  -  -  -  -  -  -  -  -  -  -\n",
      "12 -  -  -  -  -  -  -  -  -  -  -  -  -  -  -          12 -  -  -  -  -  -  -  -  -  -  -  -  -  -  -\n",
      "13 -  -  -  -  -  -  -  -  -  -  -  -  -  -  -          13 -  -  -  -  -  -  -  -  -  -  -  -  -  -  -\n",
      "14 -  -  -  -  -  -  -  -  -  -  -  -  -  -  -          14 -  -  -  -  -  -  -  -  -  -  -  -  -  -  -\n",
      "          \n",
      "333\n",
      "Yanlis degerler girdiniz, lutfen bilgi mesajini dikkatlice okuyunuz\n",
      "Yanlis degerler girdiniz, lutfen bilgi mesajini dikkatlice okuyunuz\n",
      "Yanlis degerler girdiniz, lutfen bilgi mesajini dikkatlice okuyunuz\n",
      "Yanlis degerler girdiniz, lutfen bilgi mesajini dikkatlice okuyunuz\n",
      "Yanlis degerler girdiniz, lutfen bilgi mesajini dikkatlice okuyunuz\n",
      "Yanlis degerler girdiniz, lutfen bilgi mesajini dikkatlice okuyunuz\n",
      "Yanlis degerler girdiniz, lutfen bilgi mesajini dikkatlice okuyunuz\n",
      "Yanlis degerler girdiniz, lutfen bilgi mesajini dikkatlice okuyunuz\n",
      "\n",
      "Lutfen aralarinda bosluk birakarak 3 boyutundaki geminizi \n",
      "savas alaninda nereye koymak istediginizi girin. \n",
      "Girilen degerler sirasiyla: satir_numarasi (int), sutun_numarasi (int), yatay yada dikey (str)\n",
      "Savas alaninizin su anki hali:\n",
      "   0  1  2  3  4  5  6  7  8  9  10 11 12 13 14            0  1  2  3  4  5  6  7  8  9  10 11 12 13 14\n",
      "0  -  -  -  -  -  -  -  -  -  -  -  -  -  -  -          0  -  -  -  -  -  -  -  -  -  -  -  -  -  -  -\n",
      "1  -  -  -  -  -  -  -  -  -  -  -  -  -  -  -          1  -  -  -  -  -  -  -  -  -  -  -  -  -  -  -\n",
      "2  -  -  -  -  -  -  -  -  -  -  -  -  -  -  -          2  -  -  -  -  -  -  -  -  -  -  -  -  -  -  -\n",
      "3  -  -  -  -  -  -  -  -  -  -  -  -  -  -  -          3  -  -  -  -  -  -  -  -  -  -  -  -  -  -  -\n",
      "4  -  -  -  -  -  -  -  -  -  -  -  -  -  -  -          4  -  -  -  -  -  -  -  -  -  -  -  -  -  -  -\n",
      "5  -  -  -  -  -  -  -  -  -  -  -  -  -  -  -          5  -  -  -  -  -  -  -  -  -  -  -  -  -  -  -\n",
      "6  -  -  -  -  -  -  -  -  -  -  -  -  -  -  -          6  -  -  -  -  -  -  -  -  -  -  -  -  -  -  -\n",
      "7  -  -  -  -  -  -  -  -  -  -  -  -  -  -  -          7  -  -  -  -  -  -  -  -  -  -  -  -  -  -  -\n",
      "8  -  -  -  -  -  -  -  -  -  -  -  -  -  -  -          8  -  -  -  -  -  -  -  -  -  -  -  -  -  -  -\n",
      "9  -  -  -  -  -  -  -  -  -  -  -  -  -  -  -          9  -  -  -  -  -  -  -  -  -  -  -  -  -  -  -\n",
      "10 -  -  -  -  -  -  -  -  -  -  -  -  -  -  -          10 -  -  -  -  -  -  -  -  -  -  -  -  -  -  -\n",
      "11 -  -  -  -  -  -  -  -  -  -  -  -  -  -  -          11 -  -  -  -  -  -  -  -  -  -  -  -  -  -  -\n",
      "12 -  -  -  -  -  -  -  -  -  -  -  -  -  -  -          12 -  -  -  -  -  -  -  -  -  -  -  -  -  -  -\n",
      "13 -  -  -  -  -  -  -  -  -  -  -  -  -  -  -          13 -  -  -  -  -  -  -  -  -  -  -  -  -  -  -\n",
      "14 -  -  -  -  -  -  -  -  -  -  -  -  -  -  -          14 -  -  -  -  -  -  -  -  -  -  -  -  -  -  -\n",
      "          \n",
      "3 3 dikey\n",
      "\n",
      "Lutfen aralarinda bosluk birakarak 4 boyutundaki geminizi \n",
      "savas alaninda nereye koymak istediginizi girin. \n",
      "Girilen degerler sirasiyla: satir_numarasi (int), sutun_numarasi (int), yatay yada dikey (str)\n",
      "Savas alaninizin su anki hali:\n",
      "   0  1  2  3  4  5  6  7  8  9  10 11 12 13 14            0  1  2  3  4  5  6  7  8  9  10 11 12 13 14\n",
      "0  -  -  -  -  -  -  -  -  -  -  -  -  -  -  -          0  -  -  -  -  -  -  -  -  -  -  -  -  -  -  -\n",
      "1  -  -  -  -  -  -  -  -  -  -  -  -  -  -  -          1  -  -  -  -  -  -  -  -  -  -  -  -  -  -  -\n",
      "2  -  -  -  -  -  -  -  -  -  -  -  -  -  -  -          2  -  -  -  -  -  -  -  -  -  -  -  -  -  -  -\n",
      "3  -  -  -  O  -  -  -  -  -  -  -  -  -  -  -          3  -  -  -  -  -  -  -  -  -  -  -  -  -  -  -\n",
      "4  -  -  -  O  -  -  -  -  -  -  -  -  -  -  -          4  -  -  -  -  -  -  -  -  -  -  -  -  -  -  -\n",
      "5  -  -  -  O  -  -  -  -  -  -  -  -  -  -  -          5  -  -  -  -  -  -  -  -  -  -  -  -  -  -  -\n",
      "6  -  -  -  -  -  -  -  -  -  -  -  -  -  -  -          6  -  -  -  -  -  -  -  -  -  -  -  -  -  -  -\n",
      "7  -  -  -  -  -  -  -  -  -  -  -  -  -  -  -          7  -  -  -  -  -  -  -  -  -  -  -  -  -  -  -\n",
      "8  -  -  -  -  -  -  -  -  -  -  -  -  -  -  -          8  -  -  -  -  -  -  -  -  -  -  -  -  -  -  -\n",
      "9  -  -  -  -  -  -  -  -  -  -  -  -  -  -  -          9  -  -  -  -  -  -  -  -  -  -  -  -  -  -  -\n",
      "10 -  -  -  -  -  -  -  -  -  -  -  -  -  -  -          10 -  -  -  -  -  -  -  -  -  -  -  -  -  -  -\n",
      "11 -  -  -  -  -  -  -  -  -  -  -  -  -  -  -          11 -  -  -  -  -  -  -  -  -  -  -  -  -  -  -\n",
      "12 -  -  -  -  -  -  -  -  -  -  -  -  -  -  -          12 -  -  -  -  -  -  -  -  -  -  -  -  -  -  -\n",
      "13 -  -  -  -  -  -  -  -  -  -  -  -  -  -  -          13 -  -  -  -  -  -  -  -  -  -  -  -  -  -  -\n",
      "14 -  -  -  -  -  -  -  -  -  -  -  -  -  -  -          14 -  -  -  -  -  -  -  -  -  -  -  -  -  -  -\n",
      "          \n",
      "5 5 yatay\n",
      "   0  1  2  3  4  5  6  7  8  9  10 11 12 13 14            0  1  2  3  4  5  6  7  8  9  10 11 12 13 14\n",
      "0  -  -  -  -  -  -  -  -  -  -  -  -  -  -  -          0  -  -  -  -  -  -  -  -  -  -  -  -  -  -  -\n",
      "1  -  -  -  -  -  -  -  -  -  -  -  -  -  -  -          1  -  -  -  -  -  -  -  -  -  -  -  -  -  -  -\n",
      "2  -  -  -  -  -  -  -  -  -  -  -  -  -  -  -          2  -  -  -  -  -  -  -  -  -  -  -  -  -  -  -\n",
      "3  -  -  -  O  -  -  -  -  -  -  -  -  -  -  -          3  -  -  -  -  -  -  -  -  -  -  -  -  -  -  -\n",
      "4  -  -  -  O  -  -  -  -  -  -  -  -  -  -  -          4  -  -  -  -  -  -  -  -  -  -  -  -  -  -  -\n",
      "5  -  -  -  O  -  O  O  O  O  -  -  -  -  -  -          5  -  -  -  -  -  -  -  -  -  -  -  -  -  -  -\n",
      "6  -  -  -  -  -  -  -  -  -  -  -  -  -  -  -          6  -  -  -  -  -  -  -  -  -  -  -  -  -  -  -\n",
      "7  -  -  -  -  -  -  -  -  -  -  -  -  -  -  -          7  -  -  -  -  -  -  -  -  -  -  -  -  -  -  -\n",
      "8  -  -  -  -  -  -  -  -  -  -  -  -  -  -  -          8  -  -  -  -  -  -  -  -  -  -  -  -  -  -  -\n",
      "9  -  -  -  -  -  -  -  -  -  -  -  -  -  -  -          9  -  -  -  -  -  -  -  -  -  -  -  -  -  -  -\n",
      "10 -  -  -  -  -  -  -  -  -  -  -  -  -  -  -          10 -  -  -  -  -  -  -  -  -  -  -  -  -  -  -\n",
      "11 -  -  -  -  -  -  -  -  -  -  -  -  -  -  -          11 -  -  -  -  -  -  -  -  -  -  -  -  -  -  -\n",
      "12 -  -  -  -  -  -  -  -  -  -  -  -  -  -  -          12 -  -  -  -  -  -  -  -  -  -  -  -  -  -  -\n",
      "13 -  -  -  -  -  -  -  -  -  -  -  -  -  -  -          13 -  -  -  -  -  -  -  -  -  -  -  -  -  -  -\n",
      "14 -  -  -  -  -  -  -  -  -  -  -  -  -  -  -          14 -  -  -  -  -  -  -  -  -  -  -  -  -  -  -\n",
      "          \n"
     ]
    }
   ],
   "source": [
    "gemiler = [3, 4]\n",
    "\n",
    "savas_gemileri = SavasGemileri(gemiler, savas_alani)\n",
    "savas_gemileri.gemilerin_koordinatlarini_al()"
   ]
  },
  {
   "cell_type": "markdown",
   "metadata": {},
   "source": [
    "# Oyuncu\n",
    "\n",
    "* Oyuncu classı, her el oyuncudan atış yapmak istediği noktaların koordınatlarını alıyor, ve savaş alanını bu koordinatlara göre güncelliyor\n",
    "* Aynı zamanda bilgisayar oyuncusunun rastgele atışlar yapmasını sağlıyor"
   ]
  },
  {
   "cell_type": "code",
   "execution_count": null,
   "metadata": {},
   "outputs": [],
   "source": [
    "class Oyuncu:\n",
    "    def __init__(self, savas_alani, savas_gemileri, bilgisayar_mi):\n",
    "        pass"
   ]
  },
  {
   "cell_type": "markdown",
   "metadata": {},
   "source": [
    "# Amiral Battı\n",
    "* Bu class diğer yaratılan bütün classları kullanarak oyunun akışını yönetiyor\n",
    "* Görevlerinden bir tanesi ise rastgele savaş gemileri yaratmak (boyutlarını belirlemek, örn: 3, 5, 4"
   ]
  },
  {
   "cell_type": "code",
   "execution_count": null,
   "metadata": {},
   "outputs": [],
   "source": [
    "class AmiralBatti:\n",
    "    def __init__(self, n_satir, n_sutun, n_gemi):\n",
    "        oyuncu_savas_alani = SavasAlani(n_satir, n_sutun)\n",
    "        bilgisayar_savas_alani = SavasAlani(n_satir, n_sutun)\n",
    "        \n",
    "        # Gemileri yarat\n",
    "        self.gemiler = []\n",
    "        \n",
    "        oyuncu_savas_gemileri = SavasGemileri(self.gemiler, oyuncu_savas_alani)\n",
    "        bilgisayar_savas_gemileri = SavasGemileri(self.gemiler, bilgisayar_savas_alani)\n",
    "        \n",
    "        self.oyuncu = Oyuncu(oyuncu_savas_alani, oyuncu_savas_gemsileri, False)\n",
    "        self.bilgisayar = Oyuncu(bilgisayar_savas_alani, bilgisayar_savas_gemileri, True)"
   ]
  },
  {
   "cell_type": "code",
   "execution_count": null,
   "metadata": {},
   "outputs": [],
   "source": [
    "n_satir = 10\n",
    "n_sutun = 10\n",
    "n_gemi = 4\n",
    "\n",
    "amiral_batti = AmiralBatti(n_satir, n_sutun, n_gemi)\n",
    "amiral_batti.basla()"
   ]
  },
  {
   "cell_type": "code",
   "execution_count": null,
   "metadata": {},
   "outputs": [],
   "source": []
  }
 ],
 "metadata": {
  "kernelspec": {
   "display_name": "Python 3",
   "language": "python",
   "name": "python3"
  },
  "language_info": {
   "codemirror_mode": {
    "name": "ipython",
    "version": 3
   },
   "file_extension": ".py",
   "mimetype": "text/x-python",
   "name": "python",
   "nbconvert_exporter": "python",
   "pygments_lexer": "ipython3",
   "version": "3.7.4"
  }
 },
 "nbformat": 4,
 "nbformat_minor": 4
}
